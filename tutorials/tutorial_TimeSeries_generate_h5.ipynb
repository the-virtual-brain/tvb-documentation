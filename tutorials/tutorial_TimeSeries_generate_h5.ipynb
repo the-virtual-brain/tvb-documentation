{
 "cells": [
  {
   "cell_type": "code",
   "execution_count": 78,
   "metadata": {},
   "outputs": [
    {
     "name": "stdout",
     "output_type": "stream",
     "text": [
      "Populating the interactive namespace from numpy and matplotlib\n"
     ]
    }
   ],
   "source": [
    "%pylab nbagg\n",
    "from tvb.simulator.lab import *\n",
    "from tvb.datatypes import time_series\n",
    "from tvb.basic.config import settings\n",
    "import numpy as np"
   ]
  },
  {
   "cell_type": "code",
   "execution_count": 4,
   "metadata": {},
   "outputs": [],
   "source": [
    "jrm = models.JansenRit(mu=0., v0=6.)\n",
    "\n",
    "phi_n_scaling = (jrm.a * jrm.A * (jrm.p_max-jrm.p_min) * 0.5 )**2 / 2.\n",
    "sigma         = numpy.zeros(6) \n",
    "sigma[3]      = phi_n_scaling\n",
    "\n",
    "# the other aspects of the simulator are standard\n",
    "sim = simulator.Simulator(\n",
    "    model=jrm,\n",
    "    connectivity=connectivity.Connectivity(load_default=True),\n",
    "    coupling=coupling.SigmoidalJansenRit(a=10.0),\n",
    "    integrator=integrators.HeunStochastic(dt=2 ** -4, noise=noise.Additive(nsig=sigma)),\n",
    "    monitors=monitors.TemporalAverage(period=2 ** -2),\n",
    "    simulation_length=1e3,\n",
    ").configure()\n",
    "\n",
    "# run it\n",
    "(time_array, data_array), = sim.run()"
   ]
  },
  {
   "cell_type": "code",
   "execution_count": 7,
   "metadata": {},
   "outputs": [],
   "source": [
    "series_of_time = time_series.TimeSeries(storage = False)\n",
    "series_of_time.data = data_array\n",
    "series_of_time.time = time_array"
   ]
  },
  {
   "cell_type": "code",
   "execution_count": 9,
   "metadata": {},
   "outputs": [],
   "source": [
    "series_of_time.configure()"
   ]
  },
  {
   "cell_type": "code",
   "execution_count": 50,
   "metadata": {},
   "outputs": [],
   "source": [
    "time_min = np.min(series_of_time.time)\n",
    "time_max = np.max(series_of_time.time)\n",
    "time_mean = np.mean(series_of_time.time)\n",
    "\n",
    "data_min = np.min(series_of_time.data)\n",
    "data_max = np.max(series_of_time.data)\n",
    "data_mean = np.mean(series_of_time.data)"
   ]
  },
  {
   "cell_type": "code",
   "execution_count": 88,
   "metadata": {},
   "outputs": [],
   "source": [
    "import h5py\n",
    "\n",
    "f = h5py.File(\"C:\\\\WORK\\\\TVB\\\\simmulation\\\\2017-09-27_15-52_TimeSeriesRegion2.h5\", 'w')\n",
    "\n",
    "time_size = len(time_array)\n",
    "data_size = len(data_array)\n",
    "\n",
    "time_set = f.create_dataset(\"time\",data=time_array, maxshape=(None,))\n",
    "data_set = f.create_dataset(\"data\",data=data_array)\n",
    "\n",
    "time_set.attrs['TVB_Minimum'] = time_min\n",
    "time_set.attrs['TVB_Maximum'] = time_max\n",
    "time_set.attrs['TVB_Mean'] = time_mean\n",
    "\n",
    "data_set.attrs['TVB_Minimum'] = data_min\n",
    "data_set.attrs['TVB_Maximum'] = data_max\n",
    "data_set.attrs['TVB_Mean'] = data_mean\n",
    "\n",
    "\n"
   ]
  },
  {
   "cell_type": "code",
   "execution_count": 89,
   "metadata": {},
   "outputs": [],
   "source": [
    "f.attrs['TVB_Connectivity'] = \"f6be362b-5bb4-11e5-8b0d-a45e60e5b22f\"\n",
    "f.attrs['TVB_Create_date'] = \"datetime:\"+str(datetime.datetime.now())\n",
    "f.attrs['TVB_Data_version'] = \"4\"\n",
    "f.attrs['TVB_Gid'] = generate_guid()\n",
    "f.attrs['TVB_Has_surface_mapping'] = _serialize_value(series_of_time.has_surface_mapping)\n",
    "f.attrs['TVB_Has_volume_mapping'] = _serialize_value(series_of_time.has_volume_mapping)\n",
    "f.attrs['TVB_Invalid'] = \"false\"\n",
    "f.attrs['TVB_Is_nan'] = np.isnan(data_array).any()\n",
    "f.attrs['TVB_Labels_dimensions'] = str(_serialize_value(series_of_time.labels_dimensions))\n",
    "f.attrs['TVB_Labels_ordering'] = _serialize_value(series_of_time.labels_ordering)\n",
    "f.attrs['TVB_Length_1d'] = series_of_time.length_1d\n",
    "f.attrs['TVB_Length_2d'] = series_of_time.length_2d\n",
    "f.attrs['TVB_Length_3d'] = series_of_time.length_3d\n",
    "f.attrs['TVB_Length_4d'] = series_of_time.length_4d\n",
    "f.attrs['TVB_Module'] = \"tvb.datatypes.time_series\"\n",
    "f.attrs['TVB_Nr_dimensions'] = series_of_time.nr_dimensions\n",
    "f.attrs['TVB_Region_mapping'] = \"\"\n",
    "f.attrs['TVB_Sample_period'] = series_of_time.sample_period\n",
    "f.attrs['TVB_Sample_period_unit'] = series_of_time.sample_period_unit\n",
    "f.attrs['TVB_Sample_rate'] = series_of_time.sample_rate\n",
    "f.attrs['TVB_Start_time'] = series_of_time.start_time\n",
    "f.attrs['TVB_State'] = \"INTERMEDIATE\"\n",
    "f.attrs['TVB_Subject'] = \"John Doe\"\n",
    "f.attrs['TVB_Title'] = series_of_time.title\n",
    "f.attrs['TVB_Type'] = \"TimeSeriesRegion\"\n",
    "f.attrs['TVB_User_tag_1'] = \"You can type any text you want here\" \n",
    "f.attrs['TVB_User_tag_2'] = \"\"\n",
    "f.attrs['TVB_User_tag_3'] = \"\"\n",
    "f.attrs['TVB_User_tag_4'] = \"\"\n",
    "f.attrs['TVB_User_tag_5'] = \"\"\n",
    "f.attrs['TVB_Visible'] = \"bool:True\""
   ]
  },
  {
   "cell_type": "code",
   "execution_count": 90,
   "metadata": {},
   "outputs": [],
   "source": [
    "f.close()"
   ]
  },
  {
   "cell_type": "code",
   "execution_count": 66,
   "metadata": {},
   "outputs": [],
   "source": [
    "BOOL_VALUE_PREFIX = \"bool:\"\n",
    "DATETIME_VALUE_PREFIX = \"datetime:\"\n",
    "DATE_TIME_FORMAT = '%Y-%m-%d %H:%M:%S.%f'\n",
    "def date2string(date_input, complex_format=True, date_format=None):\n",
    "    \"\"\"Convert date into string, after internal format\"\"\"\n",
    "    if date_input is None:\n",
    "        return \"None\"\n",
    "\n",
    "    if date_format is not None:\n",
    "        return date_input.strftime(date_format)\n",
    "\n",
    "    if complex_format:\n",
    "        return date_input.strftime(COMPLEX_TIME_FORMAT)\n",
    "    return date_input.strftime(SIMPLE_TIME_FORMAT)\n",
    "\n",
    "\n",
    "    \n",
    "def _serialize_value(value):\n",
    "    \"\"\"\n",
    "    This method takes a value which will be stored as metadata and \n",
    "    apply some transformation if necessary\n",
    "      \n",
    "    :param value: value which is planned to be stored\n",
    "    :returns:  value to be stored\n",
    "        \n",
    "     \"\"\"\n",
    "    if value is None:\n",
    "        return ''\n",
    "    # Force unicode strings to simple strings.\n",
    "    if isinstance(value, unicode):\n",
    "        return str(value)\n",
    "    # Transform boolean to string and prefix it\n",
    "    elif isinstance(value, bool):\n",
    "        return BOOL_VALUE_PREFIX + str(value)\n",
    "    else:\n",
    "        return value\n"
   ]
  },
  {
   "cell_type": "code",
   "execution_count": 83,
   "metadata": {},
   "outputs": [],
   "source": [
    "import uuid\n",
    "def generate_guid():\n",
    "    \"\"\" \n",
    "    Generate new Global Unique Identifier.\n",
    "    This identifier should be unique per each station, \n",
    "    and unique for different machines.\n",
    "    \"\"\"\n",
    "    return str(uuid.uuid1())\n"
   ]
  },
  {
   "cell_type": "code",
   "execution_count": null,
   "metadata": {},
   "outputs": [],
   "source": []
  }
 ],
 "metadata": {
  "kernelspec": {
   "display_name": "Python 2",
   "language": "python",
   "name": "python2"
  },
  "language_info": {
   "codemirror_mode": {
    "name": "ipython",
    "version": 2
   },
   "file_extension": ".py",
   "mimetype": "text/x-python",
   "name": "python",
   "nbconvert_exporter": "python",
   "pygments_lexer": "ipython2",
   "version": "2.7.14"
  }
 },
 "nbformat": 4,
 "nbformat_minor": 2
}
