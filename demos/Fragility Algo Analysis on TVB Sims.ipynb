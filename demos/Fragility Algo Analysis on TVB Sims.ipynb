{
 "cells": [
  {
   "cell_type": "code",
   "execution_count": 22,
   "metadata": {},
   "outputs": [
    {
     "name": "stdout",
     "output_type": "stream",
     "text": [
      "The autoreload extension is already loaded. To reload it, use:\n",
      "  %reload_ext autoreload\n"
     ]
    }
   ],
   "source": [
    "# %pylab nbagg\n",
    "from tvb.simulator.lab import *\n",
    "import tvb.analyzers.fragility as fragility\n",
    "from tvb.datatypes.time_series import TimeSeriesSEEG\n",
    "\n",
    "import os.path\n",
    "from matplotlib import colors, cm\n",
    "import time\n",
    "import scipy.signal as sig\n",
    "import scipy.io as sio\n",
    "\n",
    "import matplotlib.pyplot as plt\n",
    "import seaborn as sns\n",
    "\n",
    "%load_ext autoreload\n",
    "%autoreload 2"
   ]
  },
  {
   "cell_type": "markdown",
   "metadata": {},
   "source": [
    "# First Run Simulator To Get Test Data"
   ]
  },
  {
   "cell_type": "code",
   "execution_count": 2,
   "metadata": {},
   "outputs": [],
   "source": [
    "patient = 'id013_pg'\n",
    "project_dir = '/Users/adam2392/Documents/pydata/metadata/' + patient"
   ]
  },
  {
   "cell_type": "code",
   "execution_count": 3,
   "metadata": {},
   "outputs": [
    {
     "name": "stdout",
     "output_type": "stream",
     "text": [
      "WARNING  File 'hemispheres' not found in ZIP.\n"
     ]
    }
   ],
   "source": [
    "con = connectivity.Connectivity.from_file(os.path.join(project_dir, \"connectivity.zip\"))\n",
    "con.speed = np.inf\n",
    "con.cortical[:] = True     # To avoid adding analytical gain matrix for subcortical sources\n",
    "# normalize\n",
    "con.weights = con.weights/np.max(con.weights)\n",
    "nb_regions = len(con.region_labels)"
   ]
  },
  {
   "cell_type": "code",
   "execution_count": 4,
   "metadata": {},
   "outputs": [
    {
     "name": "stdout",
     "output_type": "stream",
     "text": [
      "84\n"
     ]
    }
   ],
   "source": [
    "x0ez=-1.6\n",
    "x0pz=-2.4\n",
    "x0num=-2.4\n",
    "period=1.\n",
    "\n",
    "ezind = 0\n",
    "\n",
    "coupl = coupling.Difference(a=1.)\n",
    "\n",
    "#Initialise some Monitors with period in physical time\n",
    "mon_tavg = monitors.TemporalAverage(period=1.)\n",
    "\n",
    "print nb_regions\n",
    "\n",
    "# Integrator\n",
    "hiss = noise.Additive(nsig = numpy.array([0.001, 0.001, 0., 0.0001, 0.0001, 0.]))\n",
    "heunint = integrators.HeunStochastic(dt=0.05, noise=hiss)\n",
    "\n",
    "\n",
    "# Epileptor model\n",
    "epileptors = models.Epileptor(Ks=-2, r=0.0002, tau = 10, tt = 0.07)\n",
    "epileptors.x0 = -2.4*np.ones(nb_regions)\n",
    "epileptors.x0[ezind] = -1.6\n",
    "\n",
    "epileptors.state_variable_range['x1'] = r_[-0.5, 0.1]\n",
    "epileptors.state_variable_range['z'] = r_[3.5,3.7]\n",
    "epileptors.state_variable_range['y1'] = r_[-0.1,1]\n",
    "epileptors.state_variable_range['x2'] = r_[-2.,0.]\n",
    "epileptors.state_variable_range['y2'] = r_[0.,2.]\n",
    "epileptors.state_variable_range['g'] = r_[-1.,1.]\n",
    "\n",
    "# monitors\n",
    "mon_tavg = monitors.TemporalAverage(period=1.0)\n",
    "mon_SEEG = monitors.iEEG.from_file(sensors_fname=os.path.join(project_dir, \"seeg.txt\"),\n",
    "                                   projection_fname=os.path.join(project_dir, \"gain_inv-square.txt\"),\n",
    "                                   period=period,\n",
    "                                   variables_of_interest=[0]\n",
    "                                   )\n",
    "\n",
    "num_contacts = mon_SEEG.sensors.labels.size\n",
    "\n",
    "# run simulation\n",
    "sim = simulator.Simulator(model=epileptors,\n",
    "                          connectivity=con,\n",
    "                          coupling=coupl,\n",
    "                          conduction_speed=np.inf,                          \n",
    "                          integrator=heunint,\n",
    "                          monitors=[mon_tavg, mon_SEEG])\n",
    "\n",
    "sim.configure()\n",
    "\n",
    "(ttavg, tavg), (tseeg, seeg) = sim.run(simulation_length=10000)\n",
    "\n",
    "# Normalize the time series to have nice plots\n",
    "tavgn = tavg/(np.max(tavg, 0) - np.min(tavg, 0))\n",
    "seegn = seeg/(np.max(seeg, 0) - np.min(seeg, 0))\n",
    "seegn = seegn - np.mean(seegn, 0)"
   ]
  },
  {
   "cell_type": "code",
   "execution_count": 5,
   "metadata": {},
   "outputs": [
    {
     "name": "stdout",
     "output_type": "stream",
     "text": [
      "(10000, 2, 84, 1)\n",
      "(10000, 1, 59, 1)\n"
     ]
    }
   ],
   "source": [
    "# print(ttavg.shape)\n",
    "print(tavg.shape)\n",
    "print(seeg.shape)"
   ]
  },
  {
   "cell_type": "markdown",
   "metadata": {},
   "source": [
    "# Setup Data to Be Analyzed By Fragility\n",
    "\n",
    "0. Add randomized line noise if not added with somewhat wide bandwidths (optional)\n",
    "1. Filter line noise with narrow bands\n",
    "2. Compute the MVAR models\n",
    "3. Compute the fragility models"
   ]
  },
  {
   "cell_type": "code",
   "execution_count": 6,
   "metadata": {},
   "outputs": [],
   "source": [
    "b, a = sig.butter(2, 0.1, btype='highpass', output='ba')\n",
    "seegf = np.zeros(seegn.shape)\n",
    "for i in range(num_contacts):\n",
    "    seegf[:, 0, i, 0] = sig.filtfilt(b, a, seeg[:, 0, i, 0])"
   ]
  },
  {
   "cell_type": "code",
   "execution_count": 24,
   "metadata": {},
   "outputs": [
    {
     "name": "stdout",
     "output_type": "stream",
     "text": [
      "['TB1' 'TB2' 'TB3' 'TB4' 'TB5' 'TB6' 'TB7' 'TB8' 'TB9' 'A1' 'A2' 'A3' 'A4'\n",
      " 'A5' 'A6' 'B1' 'B2' 'B3' 'B4' 'B5' 'B6' 'B7' 'B8' 'B9' 'B10' 'B11' 'OT1'\n",
      " 'OT2' 'OT3' 'OT4' 'OT5' 'OT6' 'OT7' 'OT8' 'OT9' 'C1' 'C2' 'C3' 'C4' 'C5'\n",
      " 'C6' 'PI1' 'PI2' 'PI3' 'PI4' 'PI5' 'PI6' 'PI7' 'PI8' 'PI9' 'OP1' 'OP2'\n",
      " 'OP3' 'OP4' 'OP5' 'OP6' 'OP7' 'OP8' 'OP9']\n"
     ]
    }
   ],
   "source": [
    "chanlabels = mon_SEEG.sensors.labels\n",
    "print(chanlabels)"
   ]
  },
  {
   "cell_type": "code",
   "execution_count": 8,
   "metadata": {},
   "outputs": [],
   "source": [
    "stepsize = 125\n",
    "winsize = 500\n",
    "samplerate = 1000.\n",
    "radius = 1.5"
   ]
  },
  {
   "cell_type": "code",
   "execution_count": 9,
   "metadata": {},
   "outputs": [
    {
     "name": "stdout",
     "output_type": "stream",
     "text": [
      "(59, 10000)\n"
     ]
    }
   ],
   "source": [
    "seeg = seeg.squeeze()\n",
    "ts_seeg = TimeSeriesSEEG(data=seeg.T,\n",
    "                        sample_period=period)\n",
    "ts_seeg.configure()\n",
    "print(ts_seeg.read_data_shape())\n",
    "print(ts_seeg.data.shape)"
   ]
  },
  {
   "cell_type": "markdown",
   "metadata": {},
   "source": [
    "# Compute Fragility Algo\n",
    "\n",
    "1. Compute linear models\n",
    "2. Compute perturbation model for finalized fragility"
   ]
  },
  {
   "cell_type": "code",
   "execution_count": 11,
   "metadata": {},
   "outputs": [
    {
     "name": "stdout",
     "output_type": "stream",
     "text": [
      "('filtered at: ', array([59.5, 60.5]))\n",
      "('filtered at: ', array([119.5, 120.5]))\n",
      "('filtered at: ', array([179.5, 180.5]))\n",
      "('filtered at: ', array([239.5, 240.5]))\n",
      "('filtered at: ', array([299.5, 300.5]))\n",
      "('filtered at: ', array([359.5, 360.5]))\n",
      "('filtered at: ', array([419.5, 420.5]))\n",
      "('filtered at: ', array([479.5, 480.5]))\n",
      "(77, 59, 59)\n"
     ]
    }
   ],
   "source": [
    "# initialize models\n",
    "mvarcomp = fragility.mvarwindowed(timeseries=ts_seeg,\n",
    "                                  winsize=winsize, \n",
    "                                  stepsize=stepsize,\n",
    "                                  samplerate=samplerate)\n",
    "mvar_data = mvarcomp.evaluate()\n",
    "print(mvar_data.shape)"
   ]
  },
  {
   "cell_type": "code",
   "execution_count": 18,
   "metadata": {},
   "outputs": [
    {
     "name": "stdout",
     "output_type": "stream",
     "text": [
      "(59, 77)\n"
     ]
    }
   ],
   "source": [
    "fragcomp = fragility.fragilitymodel(adjmats=mvarcomp.adjmats,\n",
    "                                    radius=radius)\n",
    "frag_data = fragcomp.evaluate()\n",
    "\n",
    "print(frag_data.shape)"
   ]
  },
  {
   "cell_type": "markdown",
   "metadata": {},
   "source": [
    "# Visualize Results\n",
    "\n",
    "This can visualize the channels activity over time for a range normalized metric for fragility.\n",
    "Each column represents one more window of time."
   ]
  },
  {
   "cell_type": "code",
   "execution_count": 34,
   "metadata": {},
   "outputs": [
    {
     "data": {
      "text/plain": [
       "Text(0.5,1,u'Fragility Metric Over Time')"
      ]
     },
     "execution_count": 34,
     "metadata": {},
     "output_type": "execute_result"
    },
    {
     "data": {
      "image/png": "[encoded data removed]",
      "text/plain": [
       "<matplotlib.figure.Figure at 0x11eb12190>"
      ]
     },
     "metadata": {},
     "output_type": "display_data"
    }
   ],
   "source": [
    "%matplotlib inline\n",
    "plt.figure(figsize=(8,10))\n",
    "sns.heatmap(frag_data, yticklabels=chanlabels, cbar_kws={'label': 'fragility metric'}, cmap='jet')\n",
    "plt.title('Fragility Metric Over Time')"
   ]
  },
  {
   "cell_type": "code",
   "execution_count": null,
   "metadata": {},
   "outputs": [],
   "source": []
  }
 ],
 "metadata": {
  "kernelspec": {
   "display_name": "fragility",
   "language": "python",
   "name": "fragility"
  },
  "language_info": {
   "codemirror_mode": {
    "name": "ipython",
    "version": 2
   },
   "file_extension": ".py",
   "mimetype": "text/x-python",
   "name": "python",
   "nbconvert_exporter": "python",
   "pygments_lexer": "ipython2",
   "version": "2.7.11"
  }
 },
 "nbformat": 4,
 "nbformat_minor": 2
}
