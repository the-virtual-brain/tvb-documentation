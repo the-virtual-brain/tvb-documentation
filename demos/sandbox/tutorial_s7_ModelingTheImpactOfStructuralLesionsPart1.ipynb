{
 "cells": [
  {
   "cell_type": "code",
   "execution_count": 1,
   "metadata": {},
   "outputs": [
    {
     "name": "stdout",
     "output_type": "stream",
     "text": [
      "Populating the interactive namespace from numpy and matplotlib\n",
      "   INFO  log level set to INFO\n",
      "WARNING  Field seems mutable and has a default value. Consider using a lambda as a value factory \n",
      "   attribute tvb.simulator.models.wilson_cowan.WilsonCowan.state_variable_range = Final(field_type=<class 'dict'>, default={'E': array([0., 1.]), 'I': array([0., 1.])}, required=True)\n",
      "WARNING  Field seems mutable and has a default value. Consider using a lambda as a value factory \n",
      "   attribute tvb.simulator.models.stefanescu_jirsa.ReducedSetFitzHughNagumo.state_variable_range = Final(field_type=<class 'dict'>, default={'xi': array([-4.,  4.]), 'eta': array([-3.,  3.]), 'alpha': array([-4.,  4.]), 'beta': array([-3.,  3.])}, required=True)\n",
      "WARNING  default contains values out of the declared domain. Ex 1.0 \n",
      "   attribute  tvb.simulator.models.stefanescu_jirsa.ReducedSetHindmarshRose.a = NArray(label=':math:`a`', dtype=float64, default=array([1.]), dim_names=(), ndim=None, required=True)\n",
      "WARNING  default contains values out of the declared domain. Ex 3.0 \n",
      "   attribute  tvb.simulator.models.stefanescu_jirsa.ReducedSetHindmarshRose.b = NArray(label=':math:`b`', dtype=float64, default=array([3.]), dim_names=(), ndim=None, required=True)\n",
      "WARNING  default contains values out of the declared domain. Ex 1.0 \n",
      "   attribute  tvb.simulator.models.stefanescu_jirsa.ReducedSetHindmarshRose.c = NArray(label=':math:`c`', dtype=float64, default=array([1.]), dim_names=(), ndim=None, required=True)\n",
      "WARNING  default contains values out of the declared domain. Ex 3.3 \n",
      "   attribute  tvb.simulator.models.stefanescu_jirsa.ReducedSetHindmarshRose.mu = NArray(label=':math:`\\\\mu`', dtype=float64, default=array([3.3]), dim_names=(), ndim=None, required=True)\n",
      "WARNING  Field seems mutable and has a default value. Consider using a lambda as a value factory \n",
      "   attribute tvb.simulator.models.stefanescu_jirsa.ReducedSetHindmarshRose.state_variable_range = Final(field_type=<class 'dict'>, default={'xi': array([-4.,  4.]), 'eta': array([-25.,  20.]), 'tau': array([ 2., 10.]), 'alpha': array([-4.,  4.]), 'beta': array([-20.,  20.]), 'gamma': array([ 2., 10.])}, required=True)\n",
      "WARNING  default contains values out of the declared domain. Ex 0.12 \n",
      "   attribute  tvb.simulator.models.jansen_rit.JansenRit.p_min = NArray(label=':math:`p_{min}`', dtype=float64, default=array([0.12]), dim_names=(), ndim=None, required=True)\n",
      "WARNING  default contains values out of the declared domain. Ex 0.32 \n",
      "   attribute  tvb.simulator.models.jansen_rit.JansenRit.p_max = NArray(label=':math:`p_{max}`', dtype=float64, default=array([0.32]), dim_names=(), ndim=None, required=True)\n",
      "WARNING  default contains values out of the declared domain. Ex 0.22 \n",
      "   attribute  tvb.simulator.models.jansen_rit.JansenRit.mu = NArray(label=':math:`\\\\mu_{max}`', dtype=float64, default=array([0.22]), dim_names=(), ndim=None, required=True)\n",
      "WARNING  Field seems mutable and has a default value. Consider using a lambda as a value factory \n",
      "   attribute tvb.simulator.models.jansen_rit.JansenRit.state_variable_range = Final(field_type=<class 'dict'>, default={'y0': array([-1.,  1.]), 'y1': array([-500.,  500.]), 'y2': array([-50.,  50.]), 'y3': array([-6.,  6.]), 'y4': array([-20.,  20.]), 'y5': array([-500.,  500.])}, required=True)\n",
      "WARNING  Field seems mutable and has a default value. Consider using a lambda as a value factory \n",
      "   attribute tvb.simulator.models.jansen_rit.ZetterbergJansen.state_variable_range = Final(field_type=<class 'dict'>, default={'v1': array([-100.,  100.]), 'y1': array([-500.,  500.]), 'v2': array([-100.,   50.]), 'y2': array([-100.,    6.]), 'v3': array([-100.,    6.]), 'y3': array([-100.,    6.]), 'v4': array([-100.,   20.]), 'y4': array([-100.,   20.]), 'v5': array([-100.,   20.]), 'y5': array([-500.,  500.]), 'v6': array([-100.,   20.]), 'v7': array([-100.,   20.])}, required=True)\n",
      "WARNING  default contains values out of the declared domain. Ex 1.0 \n",
      "   attribute  tvb.simulator.models.oscillator.Generic2dOscillator.gamma = NArray(label=':math:`\\\\gamma`', dtype=float64, default=array([1.]), dim_names=(), ndim=None, required=True)\n",
      "WARNING  Field seems mutable and has a default value. Consider using a lambda as a value factory \n",
      "   attribute tvb.simulator.models.oscillator.Generic2dOscillator.state_variable_range = Final(field_type=<class 'dict'>, default={'V': array([-2.,  4.]), 'W': array([-6.,  6.])}, required=True)\n",
      "WARNING  Field seems mutable and has a default value. Consider using a lambda as a value factory \n",
      "   attribute tvb.simulator.models.oscillator.Kuramoto.state_variable_range = Final(field_type=<class 'dict'>, default={'theta': array([0.        , 6.28318531])}, required=True)\n",
      "WARNING  Field seems mutable and has a default value. Consider using a lambda as a value factory \n",
      "   attribute tvb.simulator.models.oscillator.supHopf.state_variable_range = Final(field_type=<class 'dict'>, default={'x': array([-5.,  5.]), 'y': array([-5.,  5.])}, required=True)\n",
      "WARNING  default contains values out of the declared domain. Ex -0.01 \n",
      "   attribute  tvb.simulator.models.larter_breakspear.LarterBreakspear.TCa = NArray(label=':math:`T_{Ca}`', dtype=float64, default=array([-0.01]), dim_names=(), ndim=None, required=True)\n",
      "WARNING  default contains values out of the declared domain. Ex 0.3 \n",
      "   attribute  tvb.simulator.models.larter_breakspear.LarterBreakspear.TNa = NArray(label=':math:`T_{Na}`', dtype=float64, default=array([0.3]), dim_names=(), ndim=None, required=True)\n",
      "WARNING  default contains values out of the declared domain. Ex 2.0 \n",
      "   attribute  tvb.simulator.models.larter_breakspear.LarterBreakspear.aei = NArray(label=':math:`a_{ei}`', dtype=float64, default=array([2.]), dim_names=(), ndim=None, required=True)\n",
      "WARNING  default contains values out of the declared domain. Ex 2.0 \n",
      "   attribute  tvb.simulator.models.larter_breakspear.LarterBreakspear.aie = NArray(label=':math:`a_{ie}`', dtype=float64, default=array([2.]), dim_names=(), ndim=None, required=True)\n",
      "WARNING  default contains values out of the declared domain. Ex 1.0 \n",
      "   attribute  tvb.simulator.models.larter_breakspear.LarterBreakspear.ane = NArray(label=':math:`a_{ne}`', dtype=float64, default=array([1.]), dim_names=(), ndim=None, required=True)\n",
      "WARNING  default contains values out of the declared domain. Ex 0.3 \n",
      "   attribute  tvb.simulator.models.larter_breakspear.LarterBreakspear.Iext = NArray(label=':math:`I_{ext}`', dtype=float64, default=array([0.3]), dim_names=(), ndim=None, required=True)\n",
      "WARNING  default contains values out of the declared domain. Ex 1.0 \n",
      "   attribute  tvb.simulator.models.larter_breakspear.LarterBreakspear.QV_max = NArray(label=':math:`Q_{max}`', dtype=float64, default=array([1.]), dim_names=(), ndim=None, required=True)\n",
      "WARNING  default contains values out of the declared domain. Ex 1.0 \n",
      "   attribute  tvb.simulator.models.larter_breakspear.LarterBreakspear.QZ_max = NArray(label=':math:`Q_{max}`', dtype=float64, default=array([1.]), dim_names=(), ndim=None, required=True)\n",
      "WARNING  default contains values out of the declared domain. Ex 1.0 \n",
      "   attribute  tvb.simulator.models.larter_breakspear.LarterBreakspear.t_scale = NArray(label=':math:`t_{scale}`', dtype=float64, default=array([1.]), dim_names=(), ndim=None, required=True)\n",
      "WARNING  Field seems mutable and has a default value. Consider using a lambda as a value factory \n",
      "   attribute tvb.simulator.models.larter_breakspear.LarterBreakspear.state_variable_range = Final(field_type=<class 'dict'>, default={'V': array([-1.5,  1.5]), 'W': array([-1.5,  1.5]), 'Z': array([-1.5,  1.5])}, required=True)\n",
      "WARNING  default contains values out of the declared domain. Ex 0.27 \n",
      "   attribute  tvb.simulator.models.wong_wang.ReducedWongWang.a = NArray(label=':math:`a`', dtype=float64, default=array([0.27]), dim_names=(), ndim=None, required=True)\n",
      "WARNING  Field seems mutable and has a default value. Consider using a lambda as a value factory \n",
      "   attribute tvb.simulator.models.wong_wang.ReducedWongWang.state_variable_range = Final(field_type=<class 'dict'>, default={'S': array([0., 1.])}, required=True)\n",
      "WARNING  default contains values out of the declared domain. Ex 10.0 \n",
      "   attribute  tvb.simulator.models.wong_wang_exc_io_inh_i.ReducedWongWangExcIOInhI.tau_i = NArray(label=':math:`\\\\tau_i`', dtype=float64, default=array([10.]), dim_names=(), ndim=None, required=True)\n"
     ]
    },
    {
     "name": "stdout",
     "output_type": "stream",
     "text": [
      "WARNING  Field seems mutable and has a default value. Consider using a lambda as a value factory \n",
      "   attribute tvb.simulator.models.wong_wang_exc_io_inh_i.ReducedWongWangExcIOInhI.state_variable_range = Final(field_type=<class 'dict'>, default={'S_e': array([0., 1.]), 'S_i': array([0., 1.])}, required=True)\n",
      "WARNING  Field seems mutable and has a default value. Consider using a lambda as a value factory \n",
      "   attribute tvb.simulator.models.linear.Linear.state_variable_range = Final(field_type=<class 'dict'>, default={'x': array([-1,  1])}, required=True)\n",
      "WARNING  Field seems mutable and has a default value. Consider using a lambda as a value factory \n",
      "   attribute tvb.simulator.models.hopfield.Hopfield.state_variable_range = Final(field_type=<class 'dict'>, default={'x': array([-1.,  2.]), 'theta': array([0., 1.])}, required=True)\n",
      "WARNING  Field seems mutable and has a default value. Consider using a lambda as a value factory \n",
      "   attribute tvb.simulator.models.epileptor.Epileptor.state_variable_range = Final(field_type=<class 'dict'>, default={'x1': array([-2.,  1.]), 'y1': array([-20.,   2.]), 'z': array([2., 5.]), 'x2': array([-2.,  0.]), 'y2': array([0., 2.]), 'g': array([-1.,  1.])}, required=True)\n",
      "WARNING  default contains values out of the declared domain. Ex 1.0 \n",
      "   attribute  tvb.simulator.models.epileptor.Epileptor2D.tt = NArray(label='tt', dtype=float64, default=array([1.]), dim_names=(), ndim=None, required=True)\n",
      "WARNING  Field seems mutable and has a default value. Consider using a lambda as a value factory \n",
      "   attribute tvb.simulator.models.epileptor.Epileptor2D.state_variable_range = Final(field_type=<class 'dict'>, default={'x1': array([-2.,  1.]), 'z': array([2., 5.])}, required=True)\n",
      "WARNING  default contains values out of the declared domain. Ex 1.0 \n",
      "   attribute  tvb.simulator.models.JCepileptor.JC_Epileptor.gamma_rs = NArray(label=\":math:'\\\\gamma_rs'\", dtype=float64, default=array([1.]), dim_names=(), ndim=None, required=True)\n",
      "WARNING  Field seems mutable and has a default value. Consider using a lambda as a value factory \n",
      "   attribute tvb.simulator.models.JCepileptor.JC_Epileptor.state_variable_range = Final(field_type=<class 'dict'>, default={'x1': array([-1.8, -1.4]), 'y1': array([-15, -10]), 'z': array([3.6, 4. ]), 'x2': array([-1.1, -0.9]), 'y2': array([0.001, 0.01 ]), 'g': array([-1.,  1.]), 'x_rs': array([-2.,  4.]), 'y_rs': array([-6.,  6.])}, required=True)\n",
      "WARNING  Field seems mutable and has a default value. Consider using a lambda as a value factory \n",
      "   attribute tvb.simulator.models.epileptorcodim3.EpileptorCodim3.state_variable_range = Final(field_type=<class 'dict'>, default={'x': array([0.4, 0.6]), 'y': array([-0.1,  0.1]), 'z': array([0.  , 0.15])}, required=True)\n",
      "WARNING  Field seems mutable and has a default value. Consider using a lambda as a value factory \n",
      "   attribute tvb.simulator.models.epileptorcodim3.EpileptorCodim3SlowMod.state_variable_range = Final(field_type=<class 'dict'>, default={'x': array([0.4, 0.6]), 'y': array([-0.1,  0.1]), 'z': array([0. , 0.1]), 'uA': array([0., 0.]), 'uB': array([0., 0.])}, required=True)\n",
      "WARNING  Field seems mutable and has a default value. Consider using a lambda as a value factory \n",
      "   attribute tvb.simulator.models.Zerlaut.Zerlaut_adaptation_first_order.state_variable_range = Final(field_type=<class 'dict'>, default={'E': array([0. , 0.1]), 'I': array([0. , 0.1]), 'W': array([  0., 100.])}, required=True)\n",
      "WARNING  Field seems mutable and has a default value. Consider using a lambda as a value factory \n",
      "   attribute tvb.simulator.models.Zerlaut.Zerlaut_adaptation_second_order.state_variable_range = Final(field_type=<class 'dict'>, default={'E': array([0. , 0.1]), 'I': array([0. , 0.1]), 'C_ee': array([0., 0.]), 'C_ei': array([0., 0.]), 'C_ii': array([0., 0.]), 'W': array([  0., 100.])}, required=True)\n",
      "WARNING  Field seems mutable and has a default value. Consider using a lambda as a value factory \n",
      "   attribute tvb.datatypes.time_series.TimeSeries.labels_dimensions = Attr(field_type=<class 'dict'>, default={}, required=True)\n",
      "WARNING  Field seems mutable and has a default value. Consider using a lambda as a value factory \n",
      "   attribute tvb.datatypes.projections.ProjectionMatrix.conductances = Attr(field_type=<class 'dict'>, default={'air': 0.0, 'skin': 1.0, 'skull': 0.01, 'brain': 1.0}, required=False)\n",
      "WARNING  default contains values out of the declared domain. Ex 1.0 \n",
      "   attribute  tvb.simulator.coupling.HyperbolicTangent.b = NArray(label=':math:`b`', dtype=float64, default=array([1.]), dim_names=(), ndim=None, required=True)\n",
      "WARNING  default contains values out of the declared domain. Ex 1.0 \n",
      "   attribute  tvb.simulator.coupling.Kuramoto.a = NArray(label=':math:`a`', dtype=float64, default=array([1.]), dim_names=(), ndim=None, required=True)\n"
     ]
    }
   ],
   "source": [
    "%pylab nbagg\n",
    "from tvb.simulator.lab import *\n",
    "import os\n",
    "import numpy\n",
    "import networkx"
   ]
  },
  {
   "cell_type": "markdown",
   "metadata": {},
   "source": [
    "# Tutorial: Modeling The Impact of Structural Lesions -- Part I: Modeling Lesions"
   ]
  },
  {
   "cell_type": "markdown",
   "metadata": {},
   "source": [
    "In this tutorial we will explore different lesion strategies as presented in [1]. \n",
    "\n",
    "Two main strategies were used:\n",
    "\n",
    "  * sequential single deletion     \n",
    "    * random\n",
    "    * targeted    \n",
    "  * focal\n",
    "\n",
    "The first type, random method,  was aiming to provide a structural failure analysis, that is, to analyse systematically the robustness of the network. The first type, second method, provides an intemediate step toward specific lesioning, by taking into account graph metrics like degree, strength and betweeness centrality to select a target node.  \n",
    "\n",
    "The second type was intended to evaluate functional failure analysis. In this strategy we not only specify a focal node that belongs to a region of the Default Mode Network (DMN) [2, 3] but nodes within a localized extent are deleted as well. \n",
    "The size of the lesions represent 5% of the cortical surface.\n",
    "\n",
    "\n",
    "\n",
    "Here, we will explore what these strategies are about and compute + store some graph metrics of the lesioned connectivities. New matrices won't be saved. The first thing to do is creating an instance of a Connectivity datatype with the connectome we'll use as a control ('healthy').  \n",
    "\n",
    "There are several connectivity matrices available, one of them is the 998 regions originally used in [3]"
   ]
  },
  {
   "cell_type": "code",
   "execution_count": 2,
   "metadata": {},
   "outputs": [
    {
     "name": "stdout",
     "output_type": "stream",
     "text": [
      "WARNING  File 'average_orientations' not found in ZIP.\n",
      "WARNING  File 'cortical' not found in ZIP.\n",
      "WARNING  File 'hemispheres' not found in ZIP.\n"
     ]
    }
   ],
   "source": [
    "white_matter = connectivity.Connectivity.from_file(\"connectivity_998.zip\")\n",
    "white_matter.configure()\n",
    "nor = white_matter.number_of_regions"
   ]
  },
  {
   "cell_type": "markdown",
   "metadata": {},
   "source": [
    "Let's have a look at the properties of this matrix"
   ]
  },
  {
   "cell_type": "code",
   "execution_count": 3,
   "metadata": {},
   "outputs": [
    {
     "data": {
      "text/html": [
       "<table>\n",
       "<h3>Connectivity</h3>\n",
       "<thead><tr><th></th><th style=\"text-align:left;width:40%\">value</th></tr></thead>\n",
       "<tbody>\n",
       "<tr><td>Number of connections</td><td style=\"text-align:left;\"><pre>35730</pre></td>\n",
       "<tr><td>Number of regions</td><td style=\"text-align:left;\"><pre>998</pre></td>\n",
       "<tr><td>Undirected</td><td style=\"text-align:left;\"><pre>False</pre></td>\n",
       "<tr><td>areas [min, median, max]</td><td style=\"text-align:left;\"><pre>[1.5, 1.5, 1.5]</pre></td>\n",
       "<tr><td>areas dtype</td><td style=\"text-align:left;\"><pre>float64</pre></td>\n",
       "<tr><td>areas shape</td><td style=\"text-align:left;\"><pre>(998,)</pre></td>\n",
       "<tr><td>tract_lengths (connections) [min, median, max]</td><td style=\"text-align:left;\"><pre>[4.25, 27.0265, 189.5]</pre></td>\n",
       "<tr><td>tract_lengths [min, median, max]</td><td style=\"text-align:left;\"><pre>[0, 0, 189.5]</pre></td>\n",
       "<tr><td>tract_lengths-non-zero [min, median, max]</td><td style=\"text-align:left;\"><pre>[4.25, 27.0265, 189.5]</pre></td>\n",
       "<tr><td>weights [min, median, max]</td><td style=\"text-align:left;\"><pre>[0, 0, 0.914943]</pre></td>\n",
       "<tr><td>weights dtype</td><td style=\"text-align:left;\"><pre>float64</pre></td>\n",
       "<tr><td>weights shape</td><td style=\"text-align:left;\"><pre>(998, 998)</pre></td>\n",
       "<tr><td>weights-non-zero [min, median, max]</td><td style=\"text-align:left;\"><pre>[0.0848962, 0.500012, 0.914943]</pre></td>\n",
       "</tbody></table>"
      ],
      "text/plain": [
       "<tvb.datatypes.connectivity.Connectivity at 0x2b2cbee9e48>"
      ]
     },
     "execution_count": 3,
     "metadata": {},
     "output_type": "execute_result"
    }
   ],
   "source": [
    "white_matter"
   ]
  },
  {
   "cell_type": "markdown",
   "metadata": {},
   "source": [
    "\n"
   ]
  },
  {
   "cell_type": "markdown",
   "metadata": {},
   "source": [
    "#### Graph Metrics\n",
    "Graph metrics computed after each node deletion are node degree, strength, global efficiency, largest component and betweeness centrality. \n",
    "\n",
    "We'll import from the `tvb.analyzers.graph` a few useful functions:"
   ]
  },
  {
   "cell_type": "code",
   "execution_count": 4,
   "metadata": {},
   "outputs": [],
   "source": [
    "from tvb.analyzers.graph import betweenness_bin, distance_inv, efficiency_bin, get_components_sizes, sequential_random_deletion"
   ]
  },
  {
   "cell_type": "markdown",
   "metadata": {},
   "source": [
    "### Sequential random deletion \n"
   ]
  },
  {
   "cell_type": "markdown",
   "metadata": {},
   "source": [
    "In orider to be consistent about the lesions, we'll first set the Numpy's random number genrator seed -- this will guarantee that you'll get the same random sequence.\n",
    "\n",
    "A small example is given below:"
   ]
  },
  {
   "cell_type": "code",
   "execution_count": 5,
   "metadata": {},
   "outputs": [],
   "source": [
    "my_seed = 42\n",
    "my_random_state = numpy.random.RandomState(my_seed)"
   ]
  },
  {
   "cell_type": "markdown",
   "metadata": {},
   "source": [
    "Next, a sequence of random sequence of integer numbers drawn from the regions indices, without replacement, will define the order in which the nodes are going to be deleted."
   ]
  },
  {
   "cell_type": "code",
   "execution_count": 6,
   "metadata": {},
   "outputs": [],
   "source": [
    "random_sequence = my_random_state.choice(numpy.arange(nor), nor-2, replace=False)\n",
    "ns, nd, ge, lc = sequential_random_deletion(white_matter, random_sequence, nor)"
   ]
  },
  {
   "cell_type": "markdown",
   "metadata": {},
   "source": [
    "In [1] the graph metrics were computed for 25 different random sequences. So, the next cell contains a loop to do this. It is most certainly not the way to do it since it takes a long long time. This task can/should be parallelized without a problem."
   ]
  },
  {
   "cell_type": "code",
   "execution_count": 7,
   "metadata": {},
   "outputs": [],
   "source": [
    "my_seeds = [0, 1, 2, 3, 5, 7, 12, 13, 19, 21, 27, 33, 42, 53, 64, 67, 73, 77, 81, 84, 86, 89, 92, 97, 99]"
   ]
  },
  {
   "cell_type": "code",
   "execution_count": 10,
   "metadata": {},
   "outputs": [
    {
     "ename": "KeyboardInterrupt",
     "evalue": "",
     "output_type": "error",
     "traceback": [
      "\u001b[1;31m---------------------------------------------------------------------------\u001b[0m",
      "\u001b[1;31mKeyboardInterrupt\u001b[0m                         Traceback (most recent call last)",
      "\u001b[1;32m<ipython-input-10-0b3f1fabab87>\u001b[0m in \u001b[0;36m<module>\u001b[1;34m\u001b[0m\n\u001b[0;32m      5\u001b[0m     \u001b[0mmy_random_state\u001b[0m \u001b[1;33m=\u001b[0m \u001b[0mnumpy\u001b[0m\u001b[1;33m.\u001b[0m\u001b[0mrandom\u001b[0m\u001b[1;33m.\u001b[0m\u001b[0mRandomState\u001b[0m\u001b[1;33m(\u001b[0m\u001b[0mthis_seed\u001b[0m\u001b[1;33m)\u001b[0m\u001b[1;33m\u001b[0m\u001b[1;33m\u001b[0m\u001b[0m\n\u001b[0;32m      6\u001b[0m     \u001b[0mrandom_sequence\u001b[0m \u001b[1;33m=\u001b[0m \u001b[0mmy_random_state\u001b[0m\u001b[1;33m.\u001b[0m\u001b[0mchoice\u001b[0m\u001b[1;33m(\u001b[0m\u001b[0mnumpy\u001b[0m\u001b[1;33m.\u001b[0m\u001b[0marange\u001b[0m\u001b[1;33m(\u001b[0m\u001b[0mnor\u001b[0m\u001b[1;33m)\u001b[0m\u001b[1;33m,\u001b[0m \u001b[0mnor\u001b[0m\u001b[1;33m-\u001b[0m\u001b[1;36m2\u001b[0m\u001b[1;33m,\u001b[0m \u001b[0mreplace\u001b[0m\u001b[1;33m=\u001b[0m\u001b[1;32mFalse\u001b[0m\u001b[1;33m)\u001b[0m\u001b[1;33m\u001b[0m\u001b[1;33m\u001b[0m\u001b[0m\n\u001b[1;32m----> 7\u001b[1;33m     \u001b[0mns\u001b[0m\u001b[1;33m,\u001b[0m \u001b[0mnd\u001b[0m\u001b[1;33m,\u001b[0m \u001b[0mge\u001b[0m\u001b[1;33m,\u001b[0m \u001b[0mlc\u001b[0m \u001b[1;33m=\u001b[0m \u001b[0msequential_random_deletion\u001b[0m\u001b[1;33m(\u001b[0m\u001b[0mwhite_matter\u001b[0m\u001b[1;33m,\u001b[0m \u001b[0mrandom_sequence\u001b[0m\u001b[1;33m,\u001b[0m \u001b[0mnor\u001b[0m\u001b[1;33m)\u001b[0m\u001b[1;33m\u001b[0m\u001b[1;33m\u001b[0m\u001b[0m\n\u001b[0m\u001b[0;32m      8\u001b[0m     \u001b[1;31m# save them\u001b[0m\u001b[1;33m\u001b[0m\u001b[1;33m\u001b[0m\u001b[1;33m\u001b[0m\u001b[0m\n\u001b[0;32m      9\u001b[0m     \u001b[0mnumpy\u001b[0m\u001b[1;33m.\u001b[0m\u001b[0msave\u001b[0m\u001b[1;33m(\u001b[0m\u001b[1;34m'data/node_strength_'\u001b[0m \u001b[1;33m+\u001b[0m \u001b[0mstr\u001b[0m\u001b[1;33m(\u001b[0m\u001b[0mthis_seed\u001b[0m\u001b[1;33m)\u001b[0m \u001b[1;33m+\u001b[0m \u001b[1;34m'.npy'\u001b[0m \u001b[1;33m,\u001b[0m \u001b[0mns\u001b[0m\u001b[1;33m)\u001b[0m\u001b[1;33m\u001b[0m\u001b[1;33m\u001b[0m\u001b[0m\n",
      "\u001b[1;32mc:\\users\\gabriel.florea\\desktop\\mywork\\tvb_2\\tvb-library\\tvb\\analyzers\\graph.py\u001b[0m in \u001b[0;36msequential_random_deletion\u001b[1;34m(white_matter, random_sequence, nor)\u001b[0m\n\u001b[0;32m    306\u001b[0m \u001b[1;33m\u001b[0m\u001b[0m\n\u001b[0;32m    307\u001b[0m             \u001b[1;31m# efficiency\u001b[0m\u001b[1;33m\u001b[0m\u001b[1;33m\u001b[0m\u001b[1;33m\u001b[0m\u001b[0m\n\u001b[1;32m--> 308\u001b[1;33m             \u001b[0mglobal_efficieny\u001b[0m\u001b[1;33m[\u001b[0m\u001b[0mi\u001b[0m\u001b[1;33m]\u001b[0m \u001b[1;33m=\u001b[0m \u001b[0mefficiency_bin\u001b[0m\u001b[1;33m(\u001b[0m\u001b[0mtemp_degree\u001b[0m\u001b[1;33m)\u001b[0m\u001b[1;33m\u001b[0m\u001b[1;33m\u001b[0m\u001b[0m\n\u001b[0m\u001b[0;32m    309\u001b[0m \u001b[1;33m\u001b[0m\u001b[0m\n\u001b[0;32m    310\u001b[0m             \u001b[1;31m# largest connected component\u001b[0m\u001b[1;33m\u001b[0m\u001b[1;33m\u001b[0m\u001b[1;33m\u001b[0m\u001b[0m\n",
      "\u001b[1;32mc:\\users\\gabriel.florea\\desktop\\mywork\\tvb_2\\tvb-library\\tvb\\analyzers\\graph.py\u001b[0m in \u001b[0;36mefficiency_bin\u001b[1;34m(A, compute_local_efficiency)\u001b[0m\n\u001b[0;32m    168\u001b[0m         \u001b[1;32mreturn\u001b[0m \u001b[0mE\u001b[0m\u001b[1;33m\u001b[0m\u001b[1;33m\u001b[0m\u001b[0m\n\u001b[0;32m    169\u001b[0m     \u001b[1;32melse\u001b[0m\u001b[1;33m:\u001b[0m\u001b[1;33m\u001b[0m\u001b[1;33m\u001b[0m\u001b[0m\n\u001b[1;32m--> 170\u001b[1;33m         \u001b[0me\u001b[0m \u001b[1;33m=\u001b[0m \u001b[0mdistance_inv\u001b[0m\u001b[1;33m(\u001b[0m\u001b[0mG\u001b[0m\u001b[1;33m)\u001b[0m\u001b[1;33m\u001b[0m\u001b[1;33m\u001b[0m\u001b[0m\n\u001b[0m\u001b[0;32m    171\u001b[0m         \u001b[0mE\u001b[0m \u001b[1;33m=\u001b[0m \u001b[0me\u001b[0m\u001b[1;33m.\u001b[0m\u001b[0msum\u001b[0m\u001b[1;33m(\u001b[0m\u001b[1;33m)\u001b[0m \u001b[1;33m/\u001b[0m \u001b[1;33m(\u001b[0m\u001b[0mnumber_of_nodes\u001b[0m \u001b[1;33m**\u001b[0m \u001b[1;36m2\u001b[0m \u001b[1;33m-\u001b[0m \u001b[0mnumber_of_nodes\u001b[0m\u001b[1;33m)\u001b[0m\u001b[1;33m\u001b[0m\u001b[1;33m\u001b[0m\u001b[0m\n\u001b[0;32m    172\u001b[0m \u001b[1;33m\u001b[0m\u001b[0m\n",
      "\u001b[1;32mc:\\users\\gabriel.florea\\desktop\\mywork\\tvb_2\\tvb-library\\tvb\\analyzers\\graph.py\u001b[0m in \u001b[0;36mdistance_inv\u001b[1;34m(G)\u001b[0m\n\u001b[0;32m    191\u001b[0m         \u001b[0mD\u001b[0m \u001b[1;33m+=\u001b[0m \u001b[0mn\u001b[0m \u001b[1;33m*\u001b[0m \u001b[0mL\u001b[0m\u001b[1;33m\u001b[0m\u001b[1;33m\u001b[0m\u001b[0m\n\u001b[0;32m    192\u001b[0m         \u001b[0mn\u001b[0m \u001b[1;33m+=\u001b[0m \u001b[1;36m1\u001b[0m\u001b[1;33m\u001b[0m\u001b[1;33m\u001b[0m\u001b[0m\n\u001b[1;32m--> 193\u001b[1;33m         \u001b[0mnPATH\u001b[0m \u001b[1;33m=\u001b[0m \u001b[0mnumpy\u001b[0m\u001b[1;33m.\u001b[0m\u001b[0mdot\u001b[0m\u001b[1;33m(\u001b[0m\u001b[0mnPATH\u001b[0m\u001b[1;33m,\u001b[0m \u001b[0mG\u001b[0m\u001b[1;33m)\u001b[0m\u001b[1;33m\u001b[0m\u001b[1;33m\u001b[0m\u001b[0m\n\u001b[0m\u001b[0;32m    194\u001b[0m         \u001b[0mL\u001b[0m \u001b[1;33m=\u001b[0m \u001b[1;33m(\u001b[0m\u001b[0mnPATH\u001b[0m \u001b[1;33m>\u001b[0m \u001b[1;36m0\u001b[0m\u001b[1;33m)\u001b[0m \u001b[1;33m*\u001b[0m \u001b[1;33m(\u001b[0m\u001b[0mD\u001b[0m \u001b[1;33m==\u001b[0m \u001b[1;36m0\u001b[0m\u001b[1;33m)\u001b[0m\u001b[1;33m\u001b[0m\u001b[1;33m\u001b[0m\u001b[0m\n\u001b[0;32m    195\u001b[0m \u001b[1;33m\u001b[0m\u001b[0m\n",
      "\u001b[1;31mKeyboardInterrupt\u001b[0m: "
     ]
    }
   ],
   "source": [
    "import os\n",
    "if not os.path.exists('data'):\n",
    "    os.makedirs('data')\n",
    "for this_seed in my_seeds:\n",
    "    my_random_state = numpy.random.RandomState(this_seed)\n",
    "    random_sequence = my_random_state.choice(numpy.arange(nor), nor-2, replace=False)\n",
    "    ns, nd, ge, lc = sequential_random_deletion(white_matter, random_sequence, nor)\n",
    "    # save them\n",
    "    numpy.save('data/node_strength_' + str(this_seed) + '.npy' , ns)\n",
    "    numpy.save('data/node_degree_' + str(this_seed) + '.npy' , nd)\n",
    "    numpy.save('data/global_efficiency_' + str(this_seed) + '.npy' , ge)\n",
    "    numpy.save('data/largest_component_' + str(this_seed) + '.npy' , lc)    "
   ]
  },
  {
   "cell_type": "markdown",
   "metadata": {},
   "source": [
    "### Sequential targeted deletions"
   ]
  },
  {
   "cell_type": "code",
   "execution_count": null,
   "metadata": {},
   "outputs": [],
   "source": [
    "ns, nd, nbc, ge, lc = sequential_targeted_deletion(white_matter, nor)"
   ]
  },
  {
   "cell_type": "code",
   "execution_count": null,
   "metadata": {},
   "outputs": [],
   "source": [
    "# save them\n",
    "numpy.save('data/node_strength_' + 'ns' + '.npy' , ns)\n",
    "numpy.save('data/node_degree_'   + 'nd' + '.npy' , nd)\n",
    "numpy.save('data/node_betweenness_centrality_'    + 'nbc' + '.npy' , nbc)\n",
    "numpy.save('data/global_efficiency_' + 'ns_nd_bc' + '.npy' , ge)\n",
    "numpy.save('data/largest_component_' + 'ns_nd_bc' + '.npy' , lc)"
   ]
  },
  {
   "cell_type": "markdown",
   "metadata": {},
   "source": [
    "Now, we'll load the metrics computed for **sequential random deletion**..."
   ]
  },
  {
   "cell_type": "code",
   "execution_count": null,
   "metadata": {},
   "outputs": [],
   "source": [
    "global_efficiency = numpy.zeros((996, len(my_seeds)))\n",
    "largest_component = numpy.zeros((996, len(my_seeds)))\n",
    "for i, this_seed in enumerate(my_seeds):\n",
    "    # load them\n",
    "    global_efficiency[:, i] = numpy.load('data/global_efficiency_' + str(this_seed) + '.npy')\n",
    "    largest_component[:, i] = numpy.load('data/largest_component_' + str(this_seed) + '.npy')"
   ]
  },
  {
   "cell_type": "markdown",
   "metadata": {},
   "source": [
    "And the ones computed for **sequential targeted deletion** ..."
   ]
  },
  {
   "cell_type": "code",
   "execution_count": null,
   "metadata": {},
   "outputs": [],
   "source": [
    "ge = numpy.load('data/global_efficiency_' + 'ns_nd_bc' + '.npy' )\n",
    "lc = numpy.load('data/largest_component_' + 'ns_nd_bc' + '.npy' )"
   ]
  },
  {
   "cell_type": "markdown",
   "metadata": {},
   "source": [
    "#### Global  efficiency"
   ]
  },
  {
   "cell_type": "code",
   "execution_count": null,
   "metadata": {},
   "outputs": [],
   "source": [
    "fig, ax = plt.subplots(1, figsize=(20,8))\n",
    "ax.plot(global_efficiency.mean(axis=1), 'k', linewidth=4, label='random')\n",
    "ax.plot(ge[:, 0], 'g', linewidth=4, label='targeted (strength)')\n",
    "ax.plot(ge[:, 1], 'b', linewidth=4, label='targeted (degree)')\n",
    "ax.plot(ge[:, 2], 'r', linewidth=4, label='targeted (centrality)')\n",
    "\n",
    "plt.xlabel('Number of Deleted Nodes', fontsize=24)\n",
    "plt.ylabel('Global Efficiency (binary)', fontsize=24)\n",
    "\n",
    "for tick in ax.xaxis.get_major_ticks():\n",
    "    tick.label.set_fontsize(24) \n",
    "for tick in ax.yaxis.get_major_ticks():\n",
    "    tick.label.set_fontsize(24) \n",
    "    \n",
    "plt.legend()"
   ]
  },
  {
   "cell_type": "markdown",
   "metadata": {},
   "source": [
    "#### Size of the largest component"
   ]
  },
  {
   "cell_type": "code",
   "execution_count": null,
   "metadata": {},
   "outputs": [],
   "source": [
    "fig, ax = plt.subplots(1, figsize=(20,8))\n",
    "ax.plot(largest_component.mean(axis=1), 'k', linewidth=4, label='random')\n",
    "ax.plot(lc[:, 0], 'g', linewidth=4, label='targeted (strength)')\n",
    "ax.plot(lc[:, 1], 'b', linewidth=4, label='targeted (degree)')\n",
    "ax.plot(lc[:, 2], 'r', linewidth=4, label='targeted (centrality)')\n",
    "\n",
    "plt.xlabel('Number of Deleted Nodes',   fontsize=24)\n",
    "plt.ylabel('Size of Largest Component', fontsize=24)\n",
    "for tick in ax.xaxis.get_major_ticks():\n",
    "    tick.label.set_fontsize(24) \n",
    "for tick in ax.yaxis.get_major_ticks():\n",
    "    tick.label.set_fontsize(24) \n",
    "    \n",
    "plt.legend()"
   ]
  },
  {
   "cell_type": "markdown",
   "metadata": {},
   "source": [
    "### Localized deletions\n",
    "\n",
    "Localized deletions represent area removal, that is, a certain number of nodes and their connections around a focal point were deleted. This strategy was aiming at dynamic and functional failure analysis, since more evident changes in the dynamic patters are expected. \n",
    "\n",
    "The central locations were abribitrarily chosen. In this example we'll only remove node 194 [index 193] and its 49 nearest neighbours (5% of the represented cortical surface). Despite having the fibre distances, the nearest neighbouts were etermined by the Euclidean distance. \n"
   ]
  },
  {
   "cell_type": "code",
   "execution_count": null,
   "metadata": {},
   "outputs": [],
   "source": [
    "def localized_deletions(white_matter, lesion_indices, start, end, k=49):\n",
    "    \"\"\"\n",
    "    \n",
    "    Remove a focal node and its k nearest neighbours.\n",
    "    Lesions are constrained to be intrahemispheric.\n",
    "    \n",
    "    \n",
    "    Parameters\n",
    "    ----------\n",
    "    \n",
    "    white_matter   : a tvb Connectivity datatype    \n",
    "    lesion_indices : array\n",
    "                     an index vector with the focal nodes that will be deleted.\n",
    "                     \n",
    "    k              : int \n",
    "                     neighbours to be deleted.\n",
    "                                        \n",
    "    start          : int \n",
    "                     first index of a given hemisphere\n",
    "                     \n",
    "    end            : int \n",
    "                     last index of a hemisphere\n",
    "                     \n",
    "                     \n",
    "    Notes\n",
    "    -----\n",
    "    eg, first hemipshere start=0; end=nor//2\n",
    "        second hemisphere: start=nor//2; end=nor\n",
    "        \n",
    "        and nor is white_matter.number_of_regions\n",
    "        \n",
    "    .. author:: Paula Sanz Leon\n",
    "    \"\"\"\n",
    "\n",
    "    for lesion in lesion_indices:\n",
    "\n",
    "        # compute distances and such\n",
    "        xo = white_matter.centres[lesion, 0]\n",
    "        yo = white_matter.centres[lesion, 1]\n",
    "        zo = white_matter.centres[lesion, 2]\n",
    "\n",
    "        # only compute distance wrt to intra-hemispheric neighbours\n",
    "        nor = white_matter.number_of_regions\n",
    "        distances = numpy.sqrt((white_matter.centres[start:end, 0] - xo)**2 \n",
    "                    +  (white_matter.centres[start:end, 1] - yo)**2 \n",
    "                    +  (white_matter.centres[start:end, 2] - zo)**2)\n",
    "\n",
    "        # get neighbouring nodes\n",
    "        sorted_euclidean = numpy.argsort(distances)\n",
    "        good_indices     = sorted_euclidean[:k+1]\n",
    "\n",
    "        # lesion\n",
    "        new_connectivity_weights = white_matter.weights.copy()\n",
    "        new_connectivity_weights[good_indices, :] = 0.0\n",
    "        new_connectivity_weights[:, good_indices] = 0.0\n",
    "        \n",
    "        return new_connectivity_weights, good_indices"
   ]
  },
  {
   "cell_type": "code",
   "execution_count": null,
   "metadata": {},
   "outputs": [],
   "source": [
    "lesion_indices           = (numpy.array([194]) - 1).astype(int)\n",
    "lesioned_matrix_weights, idxs  = localized_deletions(white_matter, lesion_indices, 0, nor//2)"
   ]
  },
  {
   "cell_type": "code",
   "execution_count": null,
   "metadata": {},
   "outputs": [],
   "source": [
    "import matplotlib.pyplot as plt\n",
    "from matplotlib import colors\n",
    "\n",
    "fig, ax = plt.subplots(1, figsize=(25,20))\n",
    "\n",
    "# for visualization purposes\n",
    "data = lesioned_matrix_weights.copy()\n",
    "# binarize\n",
    "data[data > 0] = 1\n",
    "data[idxs, :] = 3\n",
    "data[:, idxs] = 3\n",
    "data[lesion_indices, :] = 2\n",
    "data[:, lesion_indices] = 2\n",
    "\n",
    "\n",
    "# make a color map of fixed colors\n",
    "cmap = colors.ListedColormap(['black', 'white', 'red', 'blue'])\n",
    "bounds=[0,1,2,3,4]\n",
    "norm = colors.BoundaryNorm(bounds, cmap.N)\n",
    "\n",
    "p = ax.pcolormesh(data, cmap=cmap, norm=norm)\n",
    "ax.invert_yaxis()\n",
    "cbar = fig.colorbar(p, cmap=cmap, norm=norm, boundaries=bounds, ticks=[0.5, 1.5, 2.5, 3.5])\n",
    "cbar.ax.set_yticklabels(['no connections', 'connections', 'lesion site', 'neighbours'], fontsize=24)\n",
    "\n",
    "xticks = range(998)\n",
    "yticks = range(998)\n",
    "\n",
    "xticklabels=['L194', ]\n",
    "yticklabels=['L194', ]\n",
    "\n",
    "ax.set_xticks(xticks[193:194])\n",
    "ax.set_xticklabels(xticklabels)\n",
    "\n",
    "ax.set_yticks(yticks[193:194])\n",
    "ax.set_yticklabels(yticklabels)\n",
    "\n",
    "for tick in ax.yaxis.get_major_ticks():\n",
    "    tick.label.set_fontsize(24) \n",
    "\n",
    "for tick in ax.xaxis.get_major_ticks():\n",
    "    tick.label.set_fontsize(24) \n",
    "\n",
    "\n"
   ]
  },
  {
   "cell_type": "code",
   "execution_count": null,
   "metadata": {},
   "outputs": [],
   "source": [
    "data = white_matter.weights.copy()\n",
    "\n",
    "from matplotlib import colors\n",
    "fig, ax = plt.subplots(1, figsize=(25,20))\n",
    "\n",
    "# for visualization purposes\n",
    "data[data > 0] = 1\n",
    "\n",
    "\n",
    "# make a color map of fixed colors\n",
    "cmap = colors.ListedColormap(['black', 'white'])\n",
    "bounds=[0,1,2]\n",
    "norm = colors.BoundaryNorm(bounds, cmap.N)\n",
    "\n",
    "p = ax.pcolormesh(data, cmap=cmap, norm=norm)\n",
    "ax.invert_yaxis()\n",
    "cbar = fig.colorbar(p, cmap=cmap, norm=norm, boundaries=bounds, ticks=[0.5, 1.5])\n",
    "cbar.ax.set_yticklabels(['no connections', 'connections', 'lesion site', 'neighbours'], fontsize=24)\n",
    "\n",
    "xticks = range(998)\n",
    "yticks = range(998)\n",
    "\n",
    "xticklabels=['RH']\n",
    "yticklabels=['RH']\n",
    "\n",
    "ax.set_xticks(xticks[998//4:998//4+1])\n",
    "ax.set_xticklabels(xticklabels)\n",
    "\n",
    "ax.set_yticks(yticks[998//4:998//4+1])\n",
    "ax.set_yticklabels(yticklabels)\n",
    "\n",
    "for tick in ax.yaxis.get_major_ticks():\n",
    "    tick.label.set_fontsize(24) \n",
    "\n",
    "for tick in ax.xaxis.get_major_ticks():\n",
    "    tick.label.set_fontsize(24) "
   ]
  },
  {
   "cell_type": "markdown",
   "metadata": {},
   "source": [
    "### References"
   ]
  },
  {
   "cell_type": "markdown",
   "metadata": {},
   "source": [
    "[1] Alstott et al. (2009) Modeling the impact of lesions in the human brain. Plos Comp Bio.\n",
    "\n",
    "[2] Damoiseaux et al. (2006) Consistent resting-state networks across healthy subjects. PNAS\n",
    "\n",
    "[3] Honey et al. (2009) Predicting human resting-state functional connectivity from structural connectivity. PNAS."
   ]
  },
  {
   "cell_type": "code",
   "execution_count": null,
   "metadata": {},
   "outputs": [],
   "source": []
  }
 ],
 "metadata": {
  "kernelspec": {
   "display_name": "Python 3",
   "language": "python",
   "name": "python3"
  },
  "language_info": {
   "codemirror_mode": {
    "name": "ipython",
    "version": 3
   },
   "file_extension": ".py",
   "mimetype": "text/x-python",
   "name": "python",
   "nbconvert_exporter": "python",
   "pygments_lexer": "ipython3",
   "version": "3.7.3"
  }
 },
 "nbformat": 4,
 "nbformat_minor": 1
}
