{
 "cells": [
  {
   "cell_type": "code",
   "execution_count": 1,
   "metadata": {},
   "outputs": [
    {
     "name": "stdout",
     "output_type": "stream",
     "text": [
      "Populating the interactive namespace from numpy and matplotlib\n",
      "   INFO  log level set to INFO\n",
      "WARNING  Field seems mutable and has a default value. Consider using a lambda as a value factory \n",
      "   attribute tvb.simulator.models.wilson_cowan.WilsonCowan.state_variable_range = Const(field_type=<type 'dict'>, default={'I': array([0., 1.]), 'E': array([0., 1.])}, required=True)\n",
      "WARNING  Field seems mutable and has a default value. Consider using a lambda as a value factory \n",
      "   attribute tvb.simulator.models.stefanescu_jirsa.ReducedSetFitzHughNagumo.state_variable_range = Const(field_type=<type 'dict'>, default={'alpha': array([-4.,  4.]), 'beta': array([-3.,  3.]), 'xi': array([-4.,  4.]), 'eta': array([-3.,  3.])}, required=True)\n",
      "WARNING  Field seems mutable and has a default value. Consider using a lambda as a value factory \n",
      "   attribute tvb.simulator.models.stefanescu_jirsa.ReducedSetHindmarshRose.state_variable_range = Const(field_type=<type 'dict'>, default={'tau': array([ 2., 10.]), 'xi': array([-4.,  4.]), 'beta': array([-20.,  20.]), 'eta': array([-25.,  20.]), 'alpha': array([-4.,  4.]), 'gamma': array([ 2., 10.])}, required=True)\n",
      "WARNING  default contains values out of the declared domain. Ex 1.0 \n",
      "   attribute  tvb.simulator.models.stefanescu_jirsa.ReducedSetHindmarshRose.a = NArray(label=':math:`a`', dtype=float64, default=array([1.]), dim_names=(), ndim=None, required=True)\n",
      "WARNING  default contains values out of the declared domain. Ex 1.0 \n",
      "   attribute  tvb.simulator.models.stefanescu_jirsa.ReducedSetHindmarshRose.c = NArray(label=':math:`c`', dtype=float64, default=array([1.]), dim_names=(), ndim=None, required=True)\n",
      "WARNING  default contains values out of the declared domain. Ex 3.0 \n",
      "   attribute  tvb.simulator.models.stefanescu_jirsa.ReducedSetHindmarshRose.b = NArray(label=':math:`b`', dtype=float64, default=array([3.]), dim_names=(), ndim=None, required=True)\n",
      "WARNING  default contains values out of the declared domain. Ex 3.3 \n",
      "   attribute  tvb.simulator.models.stefanescu_jirsa.ReducedSetHindmarshRose.mu = NArray(label=':math:`\\\\mu`', dtype=float64, default=array([3.3]), dim_names=(), ndim=None, required=True)\n",
      "WARNING  default contains values out of the declared domain. Ex 0.12 \n",
      "   attribute  tvb.simulator.models.jansen_rit.JansenRit.p_min = NArray(label=':math:`p_{min}`', dtype=float64, default=array([0.12]), dim_names=(), ndim=None, required=True)\n",
      "WARNING  default contains values out of the declared domain. Ex 0.32 \n",
      "   attribute  tvb.simulator.models.jansen_rit.JansenRit.p_max = NArray(label=':math:`p_{max}`', dtype=float64, default=array([0.32]), dim_names=(), ndim=None, required=True)\n",
      "WARNING  Field seems mutable and has a default value. Consider using a lambda as a value factory \n",
      "   attribute tvb.simulator.models.jansen_rit.JansenRit.state_variable_range = Const(field_type=<type 'dict'>, default={'y1': array([-500.,  500.]), 'y0': array([-1.,  1.]), 'y3': array([-6.,  6.]), 'y2': array([-50.,  50.]), 'y5': array([-500.,  500.]), 'y4': array([-20.,  20.])}, required=True)\n",
      "WARNING  default contains values out of the declared domain. Ex 0.22 \n",
      "   attribute  tvb.simulator.models.jansen_rit.JansenRit.mu = NArray(label=':math:`\\\\mu_{max}`', dtype=float64, default=array([0.22]), dim_names=(), ndim=None, required=True)\n",
      "WARNING  Field seems mutable and has a default value. Consider using a lambda as a value factory \n",
      "   attribute tvb.simulator.models.jansen_rit.ZetterbergJansen.state_variable_range = Const(field_type=<type 'dict'>, default={'v1': array([-100.,  100.]), 'v2': array([-100.,   50.]), 'v3': array([-100.,    6.]), 'v4': array([-100.,   20.]), 'v5': array([-100.,   20.]), 'v6': array([-100.,   20.]), 'v7': array([-100.,   20.]), 'y1': array([-500.,  500.]), 'y3': array([-100.,    6.]), 'y2': array([-100.,    6.]), 'y5': array([-500.,  500.]), 'y4': array([-100.,   20.])}, required=True)\n",
      "WARNING  Field seems mutable and has a default value. Consider using a lambda as a value factory \n",
      "   attribute tvb.simulator.models.oscillator.Generic2dOscillator.state_variable_range = Const(field_type=<type 'dict'>, default={'W': array([-6.,  6.]), 'V': array([-2.,  4.])}, required=True)\n",
      "WARNING  default contains values out of the declared domain. Ex 1.0 \n",
      "   attribute  tvb.simulator.models.oscillator.Generic2dOscillator.gamma = NArray(label=':math:`\\\\gamma`', dtype=float64, default=array([1.]), dim_names=(), ndim=None, required=True)\n",
      "WARNING  Field seems mutable and has a default value. Consider using a lambda as a value factory \n",
      "   attribute tvb.simulator.models.oscillator.Kuramoto.state_variable_range = Const(field_type=<type 'dict'>, default={'theta': array([0.        , 6.28318531])}, required=True)\n",
      "WARNING  Field seems mutable and has a default value. Consider using a lambda as a value factory \n",
      "   attribute tvb.simulator.models.oscillator.supHopf.state_variable_range = Const(field_type=<type 'dict'>, default={'y': array([-5.,  5.]), 'x': array([-5.,  5.])}, required=True)\n",
      "WARNING  default contains values out of the declared domain. Ex 1.0 \n",
      "   attribute  tvb.simulator.models.larter_breakspear.LarterBreakspear.ane = NArray(label=':math:`a_{ne}`', dtype=float64, default=array([1.]), dim_names=(), ndim=None, required=True)\n",
      "WARNING  default contains values out of the declared domain. Ex 1.0 \n",
      "   attribute  tvb.simulator.models.larter_breakspear.LarterBreakspear.t_scale = NArray(label=':math:`t_{scale}`', dtype=float64, default=array([1.]), dim_names=(), ndim=None, required=True)\n",
      "WARNING  default contains values out of the declared domain. Ex 1.0 \n",
      "   attribute  tvb.simulator.models.larter_breakspear.LarterBreakspear.QZ_max = NArray(label=':math:`Q_{max}`', dtype=float64, default=array([1.]), dim_names=(), ndim=None, required=True)\n",
      "WARNING  default contains values out of the declared domain. Ex -0.01 \n",
      "   attribute  tvb.simulator.models.larter_breakspear.LarterBreakspear.TCa = NArray(label=':math:`T_{Ca}`', dtype=float64, default=array([-0.01]), dim_names=(), ndim=None, required=True)\n",
      "WARNING  Field seems mutable and has a default value. Consider using a lambda as a value factory \n",
      "   attribute tvb.simulator.models.larter_breakspear.LarterBreakspear.state_variable_range = Const(field_type=<type 'dict'>, default={'Z': array([-1.5,  1.5]), 'W': array([-1.5,  1.5]), 'V': array([-1.5,  1.5])}, required=True)\n",
      "WARNING  default contains values out of the declared domain. Ex 0.3 \n",
      "   attribute  tvb.simulator.models.larter_breakspear.LarterBreakspear.TNa = NArray(label=':math:`T_{Na}`', dtype=float64, default=array([0.3]), dim_names=(), ndim=None, required=True)\n",
      "WARNING  default contains values out of the declared domain. Ex 0.3 \n",
      "   attribute  tvb.simulator.models.larter_breakspear.LarterBreakspear.Iext = NArray(label=':math:`I_{ext}`', dtype=float64, default=array([0.3]), dim_names=(), ndim=None, required=True)\n",
      "WARNING  default contains values out of the declared domain. Ex 2.0 \n",
      "   attribute  tvb.simulator.models.larter_breakspear.LarterBreakspear.aie = NArray(label=':math:`a_{ie}`', dtype=float64, default=array([2.]), dim_names=(), ndim=None, required=True)\n",
      "WARNING  default contains values out of the declared domain. Ex 2.0 \n",
      "   attribute  tvb.simulator.models.larter_breakspear.LarterBreakspear.aei = NArray(label=':math:`a_{ei}`', dtype=float64, default=array([2.]), dim_names=(), ndim=None, required=True)\n",
      "WARNING  default contains values out of the declared domain. Ex 1.0 \n",
      "   attribute  tvb.simulator.models.larter_breakspear.LarterBreakspear.QV_max = NArray(label=':math:`Q_{max}`', dtype=float64, default=array([1.]), dim_names=(), ndim=None, required=True)\n",
      "WARNING  default contains values out of the declared domain. Ex 0.27 \n",
      "   attribute  tvb.simulator.models.wong_wang.ReducedWongWang.a = NArray(label=':math:`a`', dtype=float64, default=array([0.27]), dim_names=(), ndim=None, required=True)\n",
      "WARNING  Field seems mutable and has a default value. Consider using a lambda as a value factory \n",
      "   attribute tvb.simulator.models.wong_wang.ReducedWongWang.state_variable_range = Const(field_type=<type 'dict'>, default={'S': array([0., 1.])}, required=True)\n",
      "WARNING  Field seems mutable and has a default value. Consider using a lambda as a value factory \n",
      "   attribute tvb.simulator.models.linear.Linear.state_variable_range = Const(field_type=<type 'dict'>, default={'x': array([-1,  1])}, required=True)\n"
     ]
    },
    {
     "name": "stdout",
     "output_type": "stream",
     "text": [
      "WARNING  Field seems mutable and has a default value. Consider using a lambda as a value factory \n",
      "   attribute tvb.simulator.models.hopfield.Hopfield.state_variable_range = Const(field_type=<type 'dict'>, default={'x': array([-1.,  2.]), 'theta': array([0., 1.])}, required=True)\n",
      "WARNING  Field seems mutable and has a default value. Consider using a lambda as a value factory \n",
      "   attribute tvb.simulator.models.epileptor.Epileptor.state_variable_range = Const(field_type=<type 'dict'>, default={'y2': array([0., 2.]), 'g': array([-1.,  1.]), 'z': array([2., 5.]), 'x2': array([-2.,  0.]), 'y1': array([-20.,   2.]), 'x1': array([-2.,  1.])}, required=True)\n",
      "WARNING  Field seems mutable and has a default value. Consider using a lambda as a value factory \n",
      "   attribute tvb.simulator.models.epileptor.Epileptor2D.state_variable_range = Const(field_type=<type 'dict'>, default={'x1': array([-2.,  1.]), 'z': array([2., 5.])}, required=True)\n",
      "WARNING  default contains values out of the declared domain. Ex 1.0 \n",
      "   attribute  tvb.simulator.models.epileptor.Epileptor2D.tt = NArray(label='tt', dtype=float64, default=array([1.]), dim_names=(), ndim=None, required=True)\n",
      "WARNING  Field seems mutable and has a default value. Consider using a lambda as a value factory \n",
      "   attribute tvb.simulator.models.epileptorcodim3.EpileptorCodim3.state_variable_range = Const(field_type=<type 'dict'>, default={'y': array([-0.1,  0.1]), 'x': array([0.4, 0.6]), 'z': array([0.  , 0.15])}, required=True)\n",
      "WARNING  Field seems mutable and has a default value. Consider using a lambda as a value factory \n",
      "   attribute tvb.simulator.models.epileptorcodim3.EpileptorCodim3SlowMod.state_variable_range = Const(field_type=<type 'dict'>, default={'y': array([-0.1,  0.1]), 'x': array([0.4, 0.6]), 'z': array([0. , 0.1]), 'uA': array([0., 0.]), 'uB': array([0., 0.])}, required=True)\n",
      "WARNING  Field seems mutable and has a default value. Consider using a lambda as a value factory \n",
      "   attribute tvb.datatypes.time_series.TimeSeries.labels_dimensions = Attr(field_type=<type 'dict'>, default={}, required=True)\n",
      "WARNING  Field seems mutable and has a default value. Consider using a lambda as a value factory \n",
      "   attribute tvb.datatypes.projections.ProjectionMatrix.conductances = Attr(field_type=<type 'dict'>, default={'brain': 1.0, 'skin': 1.0, 'skull': 0.01, 'air': 0.0}, required=False)\n",
      "WARNING  default contains values out of the declared domain. Ex 1.0 \n",
      "   attribute  tvb.simulator.coupling.HyperbolicTangent.b = NArray(label=':math:`b`', dtype=float64, default=array([1.]), dim_names=(), ndim=None, required=True)\n",
      "WARNING  default contains values out of the declared domain. Ex 1.0 \n",
      "   attribute  tvb.simulator.coupling.Kuramoto.a = NArray(label=':math:`a`', dtype=float64, default=array([1.]), dim_names=(), ndim=None, required=True)\n"
     ]
    },
    {
     "name": "stderr",
     "output_type": "stream",
     "text": [
      "//anaconda/envs/tvb_library_git/lib/python2.7/site-packages/matplotlib/cbook/deprecation.py:106: MatplotlibDeprecationWarning: The mpl_toolkits.axes_grid module was deprecated in version 2.1. Use mpl_toolkits.axes_grid1 and mpl_toolkits.axisartist provies the same functionality instead.\n",
      "  warnings.warn(message, mplDeprecation, stacklevel=1)\n"
     ]
    }
   ],
   "source": [
    "%pylab inline\n",
    "from tvb.simulator.lab import *"
   ]
  },
  {
   "cell_type": "markdown",
   "metadata": {},
   "source": [
    "# Generate surrogate connectivity\n",
    "\n",
    "Testing specific hypotheses about inter-node interactions can often be simpler with just a handful of nodes and connectivity created by hand. TVB makes it simple to construct common scenarios."
   ]
  },
  {
   "cell_type": "code",
   "execution_count": 2,
   "metadata": {},
   "outputs": [
    {
     "data": {
      "image/png": "[encoded data removed]",
      "text/plain": [
       "<matplotlib.figure.Figure at 0x123a50e90>"
      ]
     },
     "metadata": {
      "needs_background": "light"
     },
     "output_type": "display_data"
    }
   ],
   "source": [
    "# Create empty connectivity\n",
    "wm = connectivity.Connectivity()\n",
    "\n",
    "# First weights and distances\n",
    "nor = 4\n",
    "wm.motif_all_to_all(number_of_regions=nor)\n",
    "\n",
    "# Centers, specify the number of regions, otherwise it'll use a default value.\n",
    "wm.centres_spherical(number_of_regions=nor)\n",
    "\n",
    "# By default, the new regions labels are numeric characters, ie [0, 1, ...]\n",
    "wm.create_region_labels(mode='alphabetic')\n",
    "\n",
    "# But custom region labels can be used\n",
    "wm.region_labels = numpy.array(['a1', 'b1', 'a2', 'b2'])\n",
    "wm.configure()\n",
    "\n",
    "plot_matrix(wm.weights, connectivity=wm, binary_matrix=True)"
   ]
  },
  {
   "cell_type": "code",
   "execution_count": null,
   "metadata": {
    "collapsed": true
   },
   "outputs": [],
   "source": []
  }
 ],
 "metadata": {
  "kernelspec": {
   "display_name": "Python 2",
   "language": "python",
   "name": "python2"
  },
  "language_info": {
   "codemirror_mode": {
    "name": "ipython",
    "version": 2
   },
   "file_extension": ".py",
   "mimetype": "text/x-python",
   "name": "python",
   "nbconvert_exporter": "python",
   "pygments_lexer": "ipython2",
   "version": "2.7.15"
  }
 },
 "nbformat": 4,
 "nbformat_minor": 1
}
