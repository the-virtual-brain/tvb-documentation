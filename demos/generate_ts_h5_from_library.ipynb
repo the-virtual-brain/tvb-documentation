{
 "cells": [
  {
   "cell_type": "markdown",
   "metadata": {},
   "source": [
    "# Generate TimeSeries H5 from Library Profile to import in Web GUI\n",
    "\n",
    "\n",
    "TVB has the custom notion of \"profile\". Based on the selected TVB profile, we enable/disable some TVB modules and default features (storage, load defaults).\n",
    "\n",
    "We make a clear distinction between running TVB under WEB_PROFILE or LIBRARY_PROFILE.\n",
    "\n",
    "Currently it is not possible to switch in the same code from one TVB profile to another, but it is  possible to share data, as described in the current demo. \n",
    "\n",
    "You can find more info about TVB profiles here: http://docs.thevirtualbrain.org/manuals/UserGuide/UserGuide-Shell.html#tvb-profiles"
   ]
  },
  {
   "cell_type": "markdown",
   "metadata": {},
   "source": [
    "## Step 1\n",
    "\n",
    "Let us start by running a standard TVB simulation, with the LIBRARY_PROFILE \n",
    "(from tvb.simulator.lab import * will set the LIBRARY_PROFILE)."
   ]
  },
  {
   "cell_type": "code",
   "execution_count": 1,
   "metadata": {},
   "outputs": [
    {
     "name": "stdout",
     "output_type": "stream",
     "text": [
      "Populating the interactive namespace from numpy and matplotlib\n",
      "   INFO  log level set to INFO\n",
      "WARNING  Field seems mutable and has a default value. Consider using a lambda as a value factory \n",
      "   attribute tvb.simulator.models.wilson_cowan.WilsonCowan.state_variable_range = Final(field_type=<class 'dict'>, default={'E': array([0., 1.]), 'I': array([0., 1.])}, required=True)\n",
      "WARNING  Field seems mutable and has a default value. Consider using a lambda as a value factory \n",
      "   attribute tvb.simulator.models.stefanescu_jirsa.ReducedSetFitzHughNagumo.state_variable_range = Final(field_type=<class 'dict'>, default={'xi': array([-4.,  4.]), 'eta': array([-3.,  3.]), 'alpha': array([-4.,  4.]), 'beta': array([-3.,  3.])}, required=True)\n",
      "WARNING  default contains values out of the declared domain. Ex 1.0 \n",
      "   attribute  tvb.simulator.models.stefanescu_jirsa.ReducedSetHindmarshRose.a = NArray(label=':math:`a`', dtype=float64, default=array([1.]), dim_names=(), ndim=None, required=True)\n",
      "WARNING  default contains values out of the declared domain. Ex 3.0 \n",
      "   attribute  tvb.simulator.models.stefanescu_jirsa.ReducedSetHindmarshRose.b = NArray(label=':math:`b`', dtype=float64, default=array([3.]), dim_names=(), ndim=None, required=True)\n",
      "WARNING  default contains values out of the declared domain. Ex 1.0 \n",
      "   attribute  tvb.simulator.models.stefanescu_jirsa.ReducedSetHindmarshRose.c = NArray(label=':math:`c`', dtype=float64, default=array([1.]), dim_names=(), ndim=None, required=True)\n",
      "WARNING  default contains values out of the declared domain. Ex 3.3 \n",
      "   attribute  tvb.simulator.models.stefanescu_jirsa.ReducedSetHindmarshRose.mu = NArray(label=':math:`\\\\mu`', dtype=float64, default=array([3.3]), dim_names=(), ndim=None, required=True)\n",
      "WARNING  Field seems mutable and has a default value. Consider using a lambda as a value factory \n",
      "   attribute tvb.simulator.models.stefanescu_jirsa.ReducedSetHindmarshRose.state_variable_range = Final(field_type=<class 'dict'>, default={'xi': array([-4.,  4.]), 'eta': array([-25.,  20.]), 'tau': array([ 2., 10.]), 'alpha': array([-4.,  4.]), 'beta': array([-20.,  20.]), 'gamma': array([ 2., 10.])}, required=True)\n",
      "WARNING  default contains values out of the declared domain. Ex 0.12 \n",
      "   attribute  tvb.simulator.models.jansen_rit.JansenRit.p_min = NArray(label=':math:`p_{min}`', dtype=float64, default=array([0.12]), dim_names=(), ndim=None, required=True)\n",
      "WARNING  default contains values out of the declared domain. Ex 0.32 \n",
      "   attribute  tvb.simulator.models.jansen_rit.JansenRit.p_max = NArray(label=':math:`p_{max}`', dtype=float64, default=array([0.32]), dim_names=(), ndim=None, required=True)\n",
      "WARNING  default contains values out of the declared domain. Ex 0.22 \n",
      "   attribute  tvb.simulator.models.jansen_rit.JansenRit.mu = NArray(label=':math:`\\\\mu_{max}`', dtype=float64, default=array([0.22]), dim_names=(), ndim=None, required=True)\n",
      "WARNING  Field seems mutable and has a default value. Consider using a lambda as a value factory \n",
      "   attribute tvb.simulator.models.jansen_rit.JansenRit.state_variable_range = Final(field_type=<class 'dict'>, default={'y0': array([-1.,  1.]), 'y1': array([-500.,  500.]), 'y2': array([-50.,  50.]), 'y3': array([-6.,  6.]), 'y4': array([-20.,  20.]), 'y5': array([-500.,  500.])}, required=True)\n",
      "WARNING  Field seems mutable and has a default value. Consider using a lambda as a value factory \n",
      "   attribute tvb.simulator.models.jansen_rit.ZetterbergJansen.state_variable_range = Final(field_type=<class 'dict'>, default={'v1': array([-100.,  100.]), 'y1': array([-500.,  500.]), 'v2': array([-100.,   50.]), 'y2': array([-100.,    6.]), 'v3': array([-100.,    6.]), 'y3': array([-100.,    6.]), 'v4': array([-100.,   20.]), 'y4': array([-100.,   20.]), 'v5': array([-100.,   20.]), 'y5': array([-500.,  500.]), 'v6': array([-100.,   20.]), 'v7': array([-100.,   20.])}, required=True)\n",
      "WARNING  default contains values out of the declared domain. Ex 1.0 \n",
      "   attribute  tvb.simulator.models.oscillator.Generic2dOscillator.gamma = NArray(label=':math:`\\\\gamma`', dtype=float64, default=array([1.]), dim_names=(), ndim=None, required=True)\n",
      "WARNING  Field seems mutable and has a default value. Consider using a lambda as a value factory \n",
      "   attribute tvb.simulator.models.oscillator.Generic2dOscillator.state_variable_range = Final(field_type=<class 'dict'>, default={'V': array([-2.,  4.]), 'W': array([-6.,  6.])}, required=True)\n",
      "WARNING  Field seems mutable and has a default value. Consider using a lambda as a value factory \n",
      "   attribute tvb.simulator.models.oscillator.Kuramoto.state_variable_range = Final(field_type=<class 'dict'>, default={'theta': array([0.        , 6.28318531])}, required=True)\n",
      "WARNING  Field seems mutable and has a default value. Consider using a lambda as a value factory \n",
      "   attribute tvb.simulator.models.oscillator.supHopf.state_variable_range = Final(field_type=<class 'dict'>, default={'x': array([-5.,  5.]), 'y': array([-5.,  5.])}, required=True)\n",
      "WARNING  default contains values out of the declared domain. Ex -0.01 \n",
      "   attribute  tvb.simulator.models.larter_breakspear.LarterBreakspear.TCa = NArray(label=':math:`T_{Ca}`', dtype=float64, default=array([-0.01]), dim_names=(), ndim=None, required=True)\n",
      "WARNING  default contains values out of the declared domain. Ex 0.3 \n",
      "   attribute  tvb.simulator.models.larter_breakspear.LarterBreakspear.TNa = NArray(label=':math:`T_{Na}`', dtype=float64, default=array([0.3]), dim_names=(), ndim=None, required=True)\n",
      "WARNING  default contains values out of the declared domain. Ex 2.0 \n",
      "   attribute  tvb.simulator.models.larter_breakspear.LarterBreakspear.aei = NArray(label=':math:`a_{ei}`', dtype=float64, default=array([2.]), dim_names=(), ndim=None, required=True)\n",
      "WARNING  default contains values out of the declared domain. Ex 2.0 \n",
      "   attribute  tvb.simulator.models.larter_breakspear.LarterBreakspear.aie = NArray(label=':math:`a_{ie}`', dtype=float64, default=array([2.]), dim_names=(), ndim=None, required=True)\n",
      "WARNING  default contains values out of the declared domain. Ex 1.0 \n",
      "   attribute  tvb.simulator.models.larter_breakspear.LarterBreakspear.ane = NArray(label=':math:`a_{ne}`', dtype=float64, default=array([1.]), dim_names=(), ndim=None, required=True)\n",
      "WARNING  default contains values out of the declared domain. Ex 0.3 \n",
      "   attribute  tvb.simulator.models.larter_breakspear.LarterBreakspear.Iext = NArray(label=':math:`I_{ext}`', dtype=float64, default=array([0.3]), dim_names=(), ndim=None, required=True)\n",
      "WARNING  default contains values out of the declared domain. Ex 1.0 \n",
      "   attribute  tvb.simulator.models.larter_breakspear.LarterBreakspear.QV_max = NArray(label=':math:`Q_{max}`', dtype=float64, default=array([1.]), dim_names=(), ndim=None, required=True)\n",
      "WARNING  default contains values out of the declared domain. Ex 1.0 \n",
      "   attribute  tvb.simulator.models.larter_breakspear.LarterBreakspear.QZ_max = NArray(label=':math:`Q_{max}`', dtype=float64, default=array([1.]), dim_names=(), ndim=None, required=True)\n",
      "WARNING  default contains values out of the declared domain. Ex 1.0 \n",
      "   attribute  tvb.simulator.models.larter_breakspear.LarterBreakspear.t_scale = NArray(label=':math:`t_{scale}`', dtype=float64, default=array([1.]), dim_names=(), ndim=None, required=True)\n",
      "WARNING  Field seems mutable and has a default value. Consider using a lambda as a value factory \n",
      "   attribute tvb.simulator.models.larter_breakspear.LarterBreakspear.state_variable_range = Final(field_type=<class 'dict'>, default={'V': array([-1.5,  1.5]), 'W': array([-1.5,  1.5]), 'Z': array([-1.5,  1.5])}, required=True)\n",
      "WARNING  default contains values out of the declared domain. Ex 0.27 \n",
      "   attribute  tvb.simulator.models.wong_wang.ReducedWongWang.a = NArray(label=':math:`a`', dtype=float64, default=array([0.27]), dim_names=(), ndim=None, required=True)\n",
      "WARNING  Field seems mutable and has a default value. Consider using a lambda as a value factory \n",
      "   attribute tvb.simulator.models.wong_wang.ReducedWongWang.state_variable_range = Final(field_type=<class 'dict'>, default={'S': array([0., 1.])}, required=True)\n",
      "WARNING  default contains values out of the declared domain. Ex 10.0 \n",
      "   attribute  tvb.simulator.models.wong_wang_exc_io_inh_i.ReducedWongWangExcIOInhI.tau_i = NArray(label=':math:`\\\\tau_i`', dtype=float64, default=array([10.]), dim_names=(), ndim=None, required=True)\n"
     ]
    },
    {
     "name": "stdout",
     "output_type": "stream",
     "text": [
      "WARNING  Field seems mutable and has a default value. Consider using a lambda as a value factory \n",
      "   attribute tvb.simulator.models.wong_wang_exc_io_inh_i.ReducedWongWangExcIOInhI.state_variable_range = Final(field_type=<class 'dict'>, default={'S_e': array([0., 1.]), 'S_i': array([0., 1.])}, required=True)\n",
      "WARNING  Field seems mutable and has a default value. Consider using a lambda as a value factory \n",
      "   attribute tvb.simulator.models.linear.Linear.state_variable_range = Final(field_type=<class 'dict'>, default={'x': array([-1,  1])}, required=True)\n",
      "WARNING  Field seems mutable and has a default value. Consider using a lambda as a value factory \n",
      "   attribute tvb.simulator.models.hopfield.Hopfield.state_variable_range = Final(field_type=<class 'dict'>, default={'x': array([-1.,  2.]), 'theta': array([0., 1.])}, required=True)\n",
      "WARNING  Field seems mutable and has a default value. Consider using a lambda as a value factory \n",
      "   attribute tvb.simulator.models.epileptor.Epileptor.state_variable_range = Final(field_type=<class 'dict'>, default={'x1': array([-2.,  1.]), 'y1': array([-20.,   2.]), 'z': array([2., 5.]), 'x2': array([-2.,  0.]), 'y2': array([0., 2.]), 'g': array([-1.,  1.])}, required=True)\n",
      "WARNING  default contains values out of the declared domain. Ex 1.0 \n",
      "   attribute  tvb.simulator.models.epileptor.Epileptor2D.tt = NArray(label='tt', dtype=float64, default=array([1.]), dim_names=(), ndim=None, required=True)\n",
      "WARNING  Field seems mutable and has a default value. Consider using a lambda as a value factory \n",
      "   attribute tvb.simulator.models.epileptor.Epileptor2D.state_variable_range = Final(field_type=<class 'dict'>, default={'x1': array([-2.,  1.]), 'z': array([2., 5.])}, required=True)\n",
      "WARNING  default contains values out of the declared domain. Ex 1.0 \n",
      "   attribute  tvb.simulator.models.JCepileptor.JC_Epileptor.gamma_rs = NArray(label=\":math:'\\\\gamma_rs'\", dtype=float64, default=array([1.]), dim_names=(), ndim=None, required=True)\n",
      "WARNING  Field seems mutable and has a default value. Consider using a lambda as a value factory \n",
      "   attribute tvb.simulator.models.JCepileptor.JC_Epileptor.state_variable_range = Final(field_type=<class 'dict'>, default={'x1': array([-1.8, -1.4]), 'y1': array([-15, -10]), 'z': array([3.6, 4. ]), 'x2': array([-1.1, -0.9]), 'y2': array([0.001, 0.01 ]), 'g': array([-1.,  1.]), 'x_rs': array([-2.,  4.]), 'y_rs': array([-6.,  6.])}, required=True)\n",
      "WARNING  Field seems mutable and has a default value. Consider using a lambda as a value factory \n",
      "   attribute tvb.simulator.models.epileptorcodim3.EpileptorCodim3.state_variable_range = Final(field_type=<class 'dict'>, default={'x': array([0.4, 0.6]), 'y': array([-0.1,  0.1]), 'z': array([0.  , 0.15])}, required=True)\n",
      "WARNING  Field seems mutable and has a default value. Consider using a lambda as a value factory \n",
      "   attribute tvb.simulator.models.epileptorcodim3.EpileptorCodim3SlowMod.state_variable_range = Final(field_type=<class 'dict'>, default={'x': array([0.4, 0.6]), 'y': array([-0.1,  0.1]), 'z': array([0. , 0.1]), 'uA': array([0., 0.]), 'uB': array([0., 0.])}, required=True)\n",
      "WARNING  Field seems mutable and has a default value. Consider using a lambda as a value factory \n",
      "   attribute tvb.simulator.models.Zerlaut.Zerlaut_adaptation_first_order.state_variable_range = Final(field_type=<class 'dict'>, default={'E': array([0. , 0.1]), 'I': array([0. , 0.1]), 'W': array([  0., 100.])}, required=True)\n",
      "WARNING  Field seems mutable and has a default value. Consider using a lambda as a value factory \n",
      "   attribute tvb.simulator.models.Zerlaut.Zerlaut_adaptation_second_order.state_variable_range = Final(field_type=<class 'dict'>, default={'E': array([0. , 0.1]), 'I': array([0. , 0.1]), 'C_ee': array([0., 0.]), 'C_ei': array([0., 0.]), 'C_ii': array([0., 0.]), 'W': array([  0., 100.])}, required=True)\n",
      "WARNING  Field seems mutable and has a default value. Consider using a lambda as a value factory \n",
      "   attribute tvb.datatypes.time_series.TimeSeries.labels_dimensions = Attr(field_type=<class 'dict'>, default={}, required=True)\n",
      "WARNING  Field seems mutable and has a default value. Consider using a lambda as a value factory \n",
      "   attribute tvb.datatypes.projections.ProjectionMatrix.conductances = Attr(field_type=<class 'dict'>, default={'air': 0.0, 'skin': 1.0, 'skull': 0.01, 'brain': 1.0}, required=False)\n",
      "WARNING  default contains values out of the declared domain. Ex 1.0 \n",
      "   attribute  tvb.simulator.coupling.HyperbolicTangent.b = NArray(label=':math:`b`', dtype=float64, default=array([1.]), dim_names=(), ndim=None, required=True)\n",
      "WARNING  default contains values out of the declared domain. Ex 1.0 \n",
      "   attribute  tvb.simulator.coupling.Kuramoto.a = NArray(label=':math:`a`', dtype=float64, default=array([1.]), dim_names=(), ndim=None, required=True)\n"
     ]
    }
   ],
   "source": [
    "%pylab nbagg\n",
    "from tvb.simulator.lab import *\n",
    "from tvb.datatypes import time_series\n",
    "from tvb.basic.config import settings\n",
    "import numpy as np"
   ]
  },
  {
   "cell_type": "code",
   "execution_count": 2,
   "metadata": {},
   "outputs": [
    {
     "name": "stdout",
     "output_type": "stream",
     "text": [
      "WARNING  File 'hemispheres' not found in ZIP.\n"
     ]
    },
    {
     "name": "stderr",
     "output_type": "stream",
     "text": [
      "c:\\users\\gabriel.florea\\desktop\\mywork\\tvb_2\\tvb-library\\tvb\\simulator\\coupling.py:369: RuntimeWarning: overflow encountered in exp\n",
      "  pre = self.cmax / (1.0 + numpy.exp(self.r * (self.midpoint - (x_j[:, 0] - x_j[:, 1]))))\n",
      "c:\\users\\gabriel.florea\\desktop\\mywork\\tvb_2\\tvb-library\\tvb\\simulator\\models\\jansen_rit.py:291: RuntimeWarning: overflow encountered in _numba_dfun_jr\n",
      "  self.A, self.b, self.B, self.J, self.mu\n"
     ]
    }
   ],
   "source": [
    "jrm = models.JansenRit(mu=numpy.array([0.]), v0=numpy.array([6.]))\n",
    "monitor = monitors.TemporalAverage(period=2 ** -2)\n",
    "\n",
    "# the other aspects of the simulator are standard\n",
    "sim = simulator.Simulator(\n",
    "    model=jrm,\n",
    "    connectivity=connectivity.Connectivity.from_file(),\n",
    "    coupling=coupling.SigmoidalJansenRit(a=numpy.array([10.0])),\n",
    "    monitors=(monitor,),\n",
    "    simulation_length=1e3,\n",
    ").configure()\n",
    "\n",
    "# run it\n",
    "(time_array, data_array), = sim.run()"
   ]
  },
  {
   "cell_type": "markdown",
   "metadata": {},
   "source": [
    "## Step 2\n",
    "\n",
    "#### 2.1 Define some helper functions for writing an H5 file."
   ]
  },
  {
   "cell_type": "code",
   "execution_count": 3,
   "metadata": {},
   "outputs": [],
   "source": [
    "import uuid\n",
    "import json\n",
    "from datetime import datetime\n",
    "\n",
    "BOOL_VALUE_PREFIX = \"bool:\"\n",
    "DATETIME_VALUE_PREFIX = \"datetime:\"\n",
    "DATE_TIME_FORMAT = '%Y-%m-%d %H:%M:%S.%f'\n",
    "\n",
    "def date2string(date_input, complex_format=True, date_format=None):\n",
    "    \"\"\"Convert date into string, after internal format\"\"\"\n",
    "    if date_input is None:\n",
    "        return \"None\"\n",
    "\n",
    "    if date_format is not None:\n",
    "        return date_input.strftime(date_format)\n",
    "\n",
    "    if complex_format:\n",
    "        return date_input.strftime(COMPLEX_TIME_FORMAT)\n",
    "    return date_input.strftime(SIMPLE_TIME_FORMAT)\n",
    "\n",
    "\n",
    "def serialize_value(value):\n",
    "    \"\"\"\n",
    "    This method takes a value which will be stored as metadata and \n",
    "    apply some transformation if necessary\n",
    "      \n",
    "    :param value: value which is planned to be stored\n",
    "    :returns:  value to be stored\n",
    "     \"\"\"\n",
    "    if value is None:\n",
    "        return ''\n",
    "    # Force unicode strings to simple strings.\n",
    "    if isinstance(value, unicode):\n",
    "        return str(value)\n",
    "    # Transform boolean to string and prefix it\n",
    "    elif isinstance(value, bool):\n",
    "        return BOOL_VALUE_PREFIX + str(value)\n",
    "    # Transform date to string and append prefix\n",
    "    elif isinstance(value, datetime):\n",
    "        return DATETIME_VALUE_PREFIX + date2string(value, date_format=DATE_TIME_FORMAT)\n",
    "    else:\n",
    "        return json.dumps(value)\n",
    "    \n",
    "    \n",
    "def generate_guid():\n",
    "    \"\"\" \n",
    "    Generate new Global Unique Identifier.\n",
    "    This identifier should be unique per each station, \n",
    "    and unique for different machines.\n",
    "    \"\"\"\n",
    "    return str(uuid.uuid1())\n"
   ]
  },
  {
   "cell_type": "markdown",
   "metadata": {},
   "source": [
    "#### 2.2  Now actually write the simulation result in a H5 file."
   ]
  },
  {
   "cell_type": "code",
   "execution_count": 4,
   "metadata": {},
   "outputs": [],
   "source": [
    "import h5py\n",
    "f = h5py.File(\"TimeSeriesRegion.h5\", 'w')\n",
    "\n",
    "series_of_time = time_series.TimeSeries(data=data_array, time=time_array, sample_period=monitor.period)\n",
    "state_variable_dimension_name = series_of_time.labels_ordering[1]\n",
    "selected_vois = [jrm.variables_of_interest[idx] for idx in monitor.voi]\n",
    "series_of_time.labels_dimensions[state_variable_dimension_name] = selected_vois\n",
    "series_of_time.configure()\n",
    "\n",
    "time_set = f.create_dataset(\"time\",data=series_of_time.time, maxshape=(None,))\n",
    "time_set.attrs['TVB_Minimum'] = np.min(series_of_time.time)\n",
    "time_set.attrs['TVB_Maximum'] = np.max(series_of_time.time)\n",
    "time_set.attrs['TVB_Mean'] = np.mean(series_of_time.time)\n",
    "\n",
    "data_set = f.create_dataset(\"data\",data=series_of_time.data)\n",
    "data_set.attrs['TVB_Minimum'] = np.min(series_of_time.data)\n",
    "data_set.attrs['TVB_Maximum'] = np.max(series_of_time.data)\n",
    "data_set.attrs['TVB_Mean'] = np.mean(series_of_time.data)\n"
   ]
  },
  {
   "cell_type": "markdown",
   "metadata": {},
   "source": [
    "#### 2.3 And make sure all necessary metadata is in place in the H5 file, for TVB web GUI to recognize it at import time"
   ]
  },
  {
   "cell_type": "code",
   "execution_count": 5,
   "metadata": {},
   "outputs": [],
   "source": [
    "from tvb.basic.profile import TvbProfile\n",
    "\n",
    "f.attrs['TVB_Connectivity'] = \"f6be362b-5bb4-11e5-8b0d-a45e60e5b22f\"\n",
    "f.attrs['TVB_Create_date'] = serialize_value(datetime.now())\n",
    "f.attrs['TVB_Data_version'] = TvbProfile.current.version.DATA_VERSION\n",
    "f.attrs['TVB_Gid'] = generate_guid()\n",
    "f.attrs['TVB_Has_surface_mapping'] = \"true\"\n",
    "f.attrs['TVB_Has_volume_mapping'] = \"false\"\n",
    "f.attrs['TVB_Invalid'] = serialize_value(False)\n",
    "f.attrs['TVB_Is_nan'] = serialize_value(bool(np.isnan(data_array).any()))\n",
    "f.attrs['TVB_Labels_dimensions'] = serialize_value(series_of_time.labels_dimensions)\n",
    "f.attrs['TVB_Labels_ordering'] = serialize_value(series_of_time.labels_ordering)\n",
    "f.attrs['TVB_Module'] = \"tvb.datatypes.time_series\"\n",
    "f.attrs['TVB_Nr_dimensions'] = serialize_value(series_of_time.nr_dimensions)\n",
    "f.attrs['TVB_Region_mapping'] = \"002d1d23-5bb5-11e5-999a-a45e60e5b22f\"\n",
    "f.attrs['TVB_Sample_period'] = serialize_value(series_of_time.sample_period)\n",
    "f.attrs['TVB_Sample_period_unit'] = serialize_value(series_of_time.sample_period_unit)\n",
    "f.attrs['TVB_Sample_rate'] = serialize_value(series_of_time.sample_rate)\n",
    "f.attrs['TVB_Start_time'] = serialize_value(series_of_time.start_time)\n",
    "f.attrs['TVB_State'] = \"INTERMEDIATE\"\n",
    "f.attrs['TVB_Subject'] = \"FromIPython\"\n",
    "f.attrs['TVB_Title'] = serialize_value(series_of_time.title)\n",
    "f.attrs['TVB_Type'] = \"TimeSeriesRegion\"\n",
    "f.attrs['TVB_User_tag_1'] = \"You can type any text you want here\"\n",
    "f.attrs['TVB_User_tag_2'] = \"\"\n",
    "f.attrs['TVB_User_tag_3'] = \"\"\n",
    "f.attrs['TVB_User_tag_4'] = \"\"\n",
    "f.attrs['TVB_User_tag_5'] = \"\"\n",
    "f.attrs['TVB_Visible'] = serialize_value(True)\n",
    "\n",
    "f.close()"
   ]
  },
  {
   "cell_type": "markdown",
   "metadata": {
    "collapsed": true
   },
   "source": [
    "#### 2.4  Now you should have a file named \"TimeSeriesRegion.h5\" in the current folder where ipython notebook has been launched. \n",
    "\n",
    "You can take this \"TimeSeriesRegion.h5\" file and import it into TVB web GUI, as described here:\n",
    "http://docs.thevirtualbrain.org/manuals/UserGuide/UserGuide-UI_Project.html#data-structure\n",
    "\n",
    "After import in TVB web GUI, you will have a new TimeSeriesRegion file in your current project, which can be used with TVB web visualizers.\n",
    "\n"
   ]
  },
  {
   "cell_type": "code",
   "execution_count": null,
   "metadata": {},
   "outputs": [],
   "source": []
  }
 ],
 "metadata": {
  "kernelspec": {
   "display_name": "Python 3",
   "language": "python",
   "name": "python3"
  },
  "language_info": {
   "codemirror_mode": {
    "name": "ipython",
    "version": 3
   },
   "file_extension": ".py",
   "mimetype": "text/x-python",
   "name": "python",
   "nbconvert_exporter": "python",
   "pygments_lexer": "ipython3",
   "version": "3.7.3"
  }
 },
 "nbformat": 4,
 "nbformat_minor": 2
}
